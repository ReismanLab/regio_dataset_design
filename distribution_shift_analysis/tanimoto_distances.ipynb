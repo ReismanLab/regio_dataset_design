{
 "cells": [
  {
   "cell_type": "code",
   "execution_count": null,
   "metadata": {},
   "outputs": [],
   "source": [
    "## load data and format it for the analysis\n",
    "import pandas as pd\n",
    "from rdkit import Chem\n",
    "from rdkit.Chem import AllChem\n",
    "from rdkit import DataStructs\n",
    "import warnings\n",
    "warnings.filterwarnings('ignore')\n",
    "\n",
    "# Function to calculate Tanimoto distance between two sets of SMILES\n",
    "def calculate_distances(smiles_set1, target_mol):\n",
    "    distances = []\n",
    "    molt = Chem.MolFromSmiles(target_mol)\n",
    "    fpt = AllChem.GetMorganFingerprintAsBitVect(molt, 2)\n",
    "    for smi1 in smiles_set1:\n",
    "        mol1 = Chem.MolFromSmiles(smi1)\n",
    "        fp1  = AllChem.GetMorganFingerprintAsBitVect(mol1, 2)\n",
    "        distance = 1 - DataStructs.TanimotoSimilarity(fp1, fpt)\n",
    "        distances.append(distance)\n",
    "    return distances\n",
    "\n",
    "df_mol = pd.read_csv('../data/descriptors/preprocessed_dioxirane_reactions/df_bde.csv')\n",
    "smiles = list(set(df_mol.Reactant_SMILES))\n",
    "\n",
    "# get small and complex molecules\n",
    "small_smiles   = []\n",
    "complex_smiles = []\n",
    "for s in smiles:\n",
    "    m = Chem.MolFromSmiles(s)\n",
    "    atoms = [a.GetSymbol() for a in m.GetAtoms()]\n",
    "    num_C = atoms.count('C')\n",
    "    if num_C <= 15:\n",
    "        small_smiles.append(s)\n",
    "    else:\n",
    "        complex_smiles.append(s)\n",
    "\n",
    "print('Number of small molecules:', len(small_smiles))\n",
    "print('Number of complex molecules:', len(complex_smiles))\n",
    "\n",
    "# get TOP-x ranked molecules\n",
    "df_res = pd.read_csv('eval_bm_Custom_RF2.csv')\n",
    "df_res.columns = ['smiles', 'top-1', 'top-2', 'top-3', 'top-5', 'top-10', 'predictions']\n",
    "\n",
    "df_res['accuracy'] = \"\"\n",
    "for i in range(len(df_res)):\n",
    "    if df_res.loc[i, 'top-1'] == 1:\n",
    "        df_res.loc[i, 'accuracy'] = 'top  1'\n",
    "    elif df_res.loc[i, 'top-2'] == 1:\n",
    "        df_res.loc[i, 'accuracy'] = 'top  2'\n",
    "    elif df_res.loc[i, 'top-3'] == 1:\n",
    "        df_res.loc[i, 'accuracy'] = 'top  3'\n",
    "    elif df_res.loc[i, 'top-5'] == 1:\n",
    "        df_res.loc[i, 'accuracy'] = 'top  5'\n",
    "    elif df_res.loc[i, 'top-10'] == 1:\n",
    "        df_res.loc[i, 'accuracy'] = 'top 10'\n",
    "    else:\n",
    "        df_res.loc[i, 'accuracy'] = 'top 10+'\n",
    "\n",
    "# make dataset with Tanimoto distances to small molecules\n",
    "df_dist = pd.DataFrame(columns = ['target_smiles', 'accuracy', 'small_molecule', 'distance'])\n",
    "df_dist_avg = pd.DataFrame(columns = ['target_smiles', 'accuracy', 'avg_distance_with_sm'])\n",
    "for i in range(len(df_res)):\n",
    "    target_smiles = df_res.loc[i, 'smiles']\n",
    "    accuracy      = df_res.loc[i, 'accuracy']\n",
    "    distances  = calculate_distances(small_smiles, target_smiles)\n",
    "    for j in range(len(small_smiles)):\n",
    "        df_dist = df_dist.append({'target_smiles': target_smiles,\n",
    "                                  'accuracy': accuracy,\n",
    "                                  'small_molecule': small_smiles[j],\n",
    "                                  'distance': distances[j]}, ignore_index=True)\n",
    "    df_dist_avg = df_dist_avg.append({'target_smiles': target_smiles,\n",
    "                                      'accuracy': accuracy,\n",
    "                                      'avg_distance_with_sm': sum(distances)/len(distances)}, ignore_index=True)\n",
    "\n",
    "df_dist_avg.sort_values(by=['accuracy'], inplace=True)\n",
    "df_dist.sort_values(by=['accuracy'], inplace=True)"
   ]
  },
  {
   "cell_type": "markdown",
   "metadata": {},
   "source": [
    "Analysis of pairwise (small-complex sets) distance distributions "
   ]
  },
  {
   "cell_type": "code",
   "execution_count": null,
   "metadata": {},
   "outputs": [],
   "source": [
    "# KDE plot of the distribution of the Tanimoto distances\n",
    "import matplotlib.pyplot as plt\n",
    "import seaborn as sns\n",
    "\n",
    "fig, ax = plt.subplots(figsize=(10, 6))\n",
    "sns.displot(df_dist, x=\"distance\", kind=\"kde\", fill=True, cut=0)\n",
    "plt.show()"
   ]
  },
  {
   "cell_type": "code",
   "execution_count": null,
   "metadata": {},
   "outputs": [],
   "source": [
    "# stagggered histogram of the distribution of the Tanimoto distances colored by top-n accuracy\n",
    "fig, ax = plt.subplots(1,1, figsize=(10, 6))\n",
    "\n",
    "sns.histplot(df_dist, x=\"distance\", \n",
    "                 hue=\"accuracy\", \n",
    "                 #kind=\"kde\", \n",
    "                 #cut=0,\n",
    "                 common_norm=False,\n",
    "                 multiple=\"dodge\",\n",
    "                 binwidth=0.05,\n",
    "                 kde=True,\n",
    "                 ax=ax)\n",
    "\n",
    "ax.set_xlabel('Tanimoto distance')\n",
    "ax.set_ylabel('Density')\n",
    "ax.set_title('Distribution of Tanimoto distances to small molecules depending on top-n accuracy')\n",
    "ax.set_xlim(0.5, 1)\n",
    "plt.show()"
   ]
  },
  {
   "cell_type": "code",
   "execution_count": null,
   "metadata": {},
   "outputs": [],
   "source": [
    "# box plot of the distribution of the Tanimoto distances colored by top-n accuracy\n",
    "fig, ax = plt.subplots(1,1, figsize=(10, 6))\n",
    "sns.boxplot(x='accuracy', y='distance', hue='accuracy', data=df_dist, ax=ax)\n",
    "#sns.swarmplot(x='accuracy', y='distance', data=df_dist, color=\".25\", ax=ax)\n",
    "ax.set_ylim(0.2, 1)"
   ]
  },
  {
   "cell_type": "markdown",
   "metadata": {},
   "source": [
    "Analysis of average distance distributions between complex molecules and the small molecules set"
   ]
  },
  {
   "cell_type": "code",
   "execution_count": null,
   "metadata": {},
   "outputs": [],
   "source": [
    "# KDE plot of the distribution of the Tanimoto average distances\n",
    "sns.displot(x='avg_distance_with_sm', data=df_dist_avg, kind=\"kde\", cut=0.05, fill=True, ax=ax)\n",
    "fig, ax = plt.subplots(1,1, figsize=(10, 6))\n",
    "#sns.displot(x='avg_distance_with_sm', data=df_dist_avg, kind=\"kde\", cut=0.05, fill=True, ax=ax)\n",
    "#sns.stripplot(x='avg_distance_with_sm', data=df_dist_avg, color='black', alpha=0.5, ax = ax)\n",
    "sns.histplot(x='avg_distance_with_sm', data=df_dist_avg,ax=ax, binwidth=0.01, hue='accuracy', multiple='stack', common_norm=True)\n",
    "#sns.jointplot(x='avg_distance_with_sm', data=df_dist_avg, kind='kde', fill=True, ax=ax)\n"
   ]
  },
  {
   "cell_type": "code",
   "execution_count": null,
   "metadata": {},
   "outputs": [],
   "source": [
    "sns.boxplot(x='accuracy', y='avg_distance_with_sm', hue='accuracy', data=df_dist_avg)\n",
    "sns.stripplot(x='accuracy', y='avg_distance_with_sm', color=\"black\",  data=df_dist_avg)\n"
   ]
  },
  {
   "cell_type": "markdown",
   "metadata": {},
   "source": [
    "Change the Tanimoto fingerprint from one small molecule to the concatenated set of small molecules"
   ]
  },
  {
   "cell_type": "code",
   "execution_count": null,
   "metadata": {},
   "outputs": [],
   "source": [
    "# change the Tanimoto fingerprint from one small molecule to the concatenated set of small molecules\n",
    "def MFP_smiles_set(list_smiles):\n",
    "    mega_smiles = ''\n",
    "    for i, s in enumerate(list_smiles):\n",
    "        mega_smiles += s\n",
    "        if i != len(list_smiles)-1:\n",
    "            mega_smiles += '.'\n",
    "    return mega_smiles\n",
    "\n",
    "mega_smiles = MFP_smiles_set(small_smiles)\n",
    "\n",
    "distances = calculate_distances([mega_smiles], complex_smiles[0])\n",
    "df_dist_allfp = pd.DataFrame(columns = ['target_smiles', 'accuracy', 'distance'])\n",
    "\n",
    "for i in range(len(df_res)):\n",
    "    target_smiles = df_res.loc[i, 'smiles']\n",
    "    accuracy      = df_res.loc[i, 'accuracy']\n",
    "    distances = calculate_distances([mega_smiles], target_smiles)\n",
    "    df_dist_allfp = df_dist_allfp.append({'target_smiles': complex_smiles[i],\n",
    "                                          'accuracy': accuracy,\n",
    "                                          'distance': distances[0]}, ignore_index=True)\n",
    "\n",
    "df_dist_allfp.replace({'accuracy': {'top 1': \"top  1\", 'top 2': \"top  2\", 'top 3': \"top  3\"}}, inplace=True)\n",
    "df_dist_allfp.sort_values(by=['accuracy'], inplace=True)    "
   ]
  },
  {
   "cell_type": "code",
   "execution_count": null,
   "metadata": {},
   "outputs": [],
   "source": [
    "# KDE plot of the distribution of the Tanimoto average distances\n",
    "sns.displot(x='distance', data=df_dist_allfp, kind=\"kde\", cut=0.05, fill=True, ax=ax)"
   ]
  },
  {
   "cell_type": "code",
   "execution_count": null,
   "metadata": {},
   "outputs": [],
   "source": [
    "sns.histplot(x='distance', data=df_dist_allfp, binwidth=0.01, hue='accuracy', multiple='stack', common_norm=True)"
   ]
  },
  {
   "cell_type": "code",
   "execution_count": null,
   "metadata": {},
   "outputs": [],
   "source": [
    "sns.boxplot(x='accuracy', y='distance', hue='accuracy', data=df_dist_allfp)\n",
    "sns.stripplot(x='accuracy', y='distance', color=\"black\",  data=df_dist_allfp)"
   ]
  }
 ],
 "metadata": {
  "kernelspec": {
   "display_name": "regio_data",
   "language": "python",
   "name": "python3"
  },
  "language_info": {
   "codemirror_mode": {
    "name": "ipython",
    "version": 3
   },
   "file_extension": ".py",
   "mimetype": "text/x-python",
   "name": "python",
   "nbconvert_exporter": "python",
   "pygments_lexer": "ipython3",
   "version": "3.11.10"
  }
 },
 "nbformat": 4,
 "nbformat_minor": 2
}
