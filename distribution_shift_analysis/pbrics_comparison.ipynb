{
 "cells": [
  {
   "cell_type": "code",
   "execution_count": null,
   "metadata": {},
   "outputs": [],
   "source": [
    "# load dataset with small and complex molecules\n",
    "\n",
    "import pandas as pd\n",
    "import numpy as np\n",
    "from rdkit import Chem\n",
    "from rdkit.Chem import AllChem, Draw\n",
    "\n",
    "df_mol = pd.read_csv('../data/descriptors/preprocessed_dioxirane_reactions/df_bde.csv')\n",
    "smiles = list(set(df_mol.Reactant_SMILES))\n",
    "\n",
    "# get small and complex molecules\n",
    "small_smiles   = []\n",
    "complex_smiles = []\n",
    "for s in smiles:\n",
    "    m = Chem.MolFromSmiles(s)\n",
    "    atoms = [a.GetSymbol() for a in m.GetAtoms()]\n",
    "    num_C = atoms.count('C')\n",
    "    if num_C <= 15:\n",
    "        small_smiles.append(Chem.CanonSmiles(s))\n",
    "    else:\n",
    "        complex_smiles.append(Chem.CanonSmiles(s))\n",
    "\n",
    "print('Number of small molecules:', len(small_smiles))\n",
    "print('Number of complex molecules:', len(complex_smiles))\n",
    "\n",
    "# load BRICS and pBRICS decompositions\n",
    "import pickle\n",
    "with open('decomposition_data/BRICS_dioxirane.pkl', 'rb') as file:\n",
    "    data_brics = pickle.load(file)\n",
    "\n",
    "with open('decomposition_data/pBRICS_dioxirane.pkl', 'rb') as file:\n",
    "    data_pbrics = pickle.load(file)\n",
    "\n",
    "data_pbrics = dict(data_pbrics)\n",
    "\n",
    "# canonicalize smiles\n",
    "for k, v in data_brics.items():\n",
    "    data_brics[Chem.CanonSmiles(k)] = [Chem.CanonSmiles(x) for x in v]\n",
    "for k, v in data_pbrics.items():\n",
    "    data_pbrics[Chem.CanonSmiles(k)] = [Chem.CanonSmiles(x) for x in v]\n",
    "\n",
    "# remove the numbers of atoms in the fragments and reduce the number of fragments when duplicates appear\n",
    "import re\n",
    "def remove_dummy_atom_numbers(fragments):\n",
    "    fragments_new = []\n",
    "    for frag in fragments:\n",
    "        frag_new = re.sub(r'\\[\\d+\\*\\]', '[*]', frag)\n",
    "        frag_new = frag_new.replace('*', '[*]')\n",
    "        frag_new = frag_new.replace(r'[[', '[')\n",
    "        frag_new = frag_new.replace(r']]', ']')\n",
    "        fragments_new.append(frag_new)\n",
    "    return fragments_new\n",
    "\n",
    "for k, v in data_brics.items():\n",
    "    data_brics[k] = list(set(remove_dummy_atom_numbers(v)))\n",
    "\n",
    "for k, v in data_pbrics.items():\n",
    "    data_pbrics[k] = list(set(remove_dummy_atom_numbers(v)))\n",
    "\n",
    "len(data_brics), len(data_pbrics)"
   ]
  },
  {
   "cell_type": "markdown",
   "metadata": {},
   "source": [
    "# BRICS comparison between small and complex molecules datasets"
   ]
  },
  {
   "cell_type": "code",
   "execution_count": null,
   "metadata": {},
   "outputs": [],
   "source": [
    "brics_small = []\n",
    "brics_complex = []\n",
    "for s in small_smiles:\n",
    "    brics_small +=  data_brics[s]\n",
    "for s in complex_smiles:\n",
    "    brics_complex +=  data_brics[s]\n",
    "brics_small = list(set(brics_small))\n",
    "brics_complex = list(set(brics_complex))\n",
    "   \n",
    "# unique fragments\n",
    "print(f\"Number of unique fragments:\")\n",
    "print(f\"small molecules: {len(brics_small)}\")\n",
    "print(f\"complex molecules: {len(brics_complex)}\")\n",
    "\n",
    "# intersection\n",
    "print(f\"Number of common fragments: {len(set(brics_small) & set(brics_complex))}\")\n",
    "\n",
    "# fragments that appear in complex molecules but not in small molecules:\n",
    "print(f\"Number of fragments that appear in complex molecules but not in small molecules: {len(set(brics_complex) - set(brics_small))}\")\n",
    "\n",
    "# fragments that appear in small molecules but not in complex molecules:\n",
    "print(f\"Number of fragments that appear in small molecules but not in complex molecules: {len(set(brics_small) - set(brics_complex))}\")"
   ]
  },
  {
   "cell_type": "code",
   "execution_count": null,
   "metadata": {},
   "outputs": [],
   "source": [
    "# fragments that appear in both small and complex molecules\n",
    "Draw.MolsToGridImage([Chem.MolFromSmiles(s) for s in list(set(brics_small) & set(brics_complex))], \n",
    "                     molsPerRow=6, subImgSize=(200, 200))"
   ]
  },
  {
   "cell_type": "code",
   "execution_count": null,
   "metadata": {},
   "outputs": [],
   "source": [
    "# fragments that appear in small molecules but not in complex molecules:\n",
    "Draw.MolsToGridImage([Chem.MolFromSmiles(s) for s in list(set(brics_small) - set(brics_complex))], \n",
    "                     molsPerRow=6, subImgSize=(200, 200),\n",
    "                     maxMols=60)"
   ]
  },
  {
   "cell_type": "code",
   "execution_count": null,
   "metadata": {},
   "outputs": [],
   "source": [
    "# fragments that appear in complex molecules but not in small molecules:\n",
    "Draw.MolsToGridImage([Chem.MolFromSmiles(s) for s in list( set(brics_complex) - set(brics_small) )], \n",
    "                     molsPerRow=6, subImgSize=(200, 200), maxMols=40)"
   ]
  },
  {
   "cell_type": "markdown",
   "metadata": {},
   "source": [
    "# pBRICS comparison between small and complex molecules datasets"
   ]
  },
  {
   "cell_type": "code",
   "execution_count": null,
   "metadata": {},
   "outputs": [],
   "source": [
    "# pBRICS\n",
    "pbrics_small = []\n",
    "pbrics_complex = []\n",
    "for s in small_smiles:\n",
    "    pbrics_small +=  data_pbrics[s]\n",
    "for s in complex_smiles:\n",
    "    pbrics_complex +=  data_pbrics[s]\n",
    "pbrics_small = list(set(pbrics_small))\n",
    "pbrics_complex = list(set(pbrics_complex))\n",
    "\n",
    "common = list(set(pbrics_small) & set(pbrics_complex))\n",
    "# unique fragments\n",
    "print(f\"Number of unique fragments:\")\n",
    "print(f\"small molecules: {len(pbrics_small)}\")\n",
    "print(f\"complex molecules: {len(pbrics_complex)}\")\n",
    "\n",
    "# intersection\n",
    "print(f\"Number of common fragments: {len(list(set(set(pbrics_small) & set(pbrics_complex))))}\")\n",
    "\n",
    "# fragments that appear in complex molecules but not in small molecules:\n",
    "print(f\"Number of fragments that appear in complex molecules but not in small molecules: {len(set(pbrics_complex) - set(pbrics_small))}\")\n",
    "\n",
    "# fragments that appear in small molecules but not in complex molecules:\n",
    "print(f\"Number of fragments that appear in small molecules but not in complex molecules: {len(set(pbrics_small) - set(pbrics_complex))}\")"
   ]
  },
  {
   "cell_type": "code",
   "execution_count": null,
   "metadata": {},
   "outputs": [],
   "source": [
    "# fragments that appear in both small and complex molecules\n",
    "Draw.MolsToGridImage([Chem.MolFromSmiles(s) for s in list(set(pbrics_small) & set(pbrics_complex))], \n",
    "                     molsPerRow=6, subImgSize=(200, 200),\n",
    "                     maxMols=60)"
   ]
  },
  {
   "cell_type": "code",
   "execution_count": null,
   "metadata": {},
   "outputs": [],
   "source": [
    "# fragments that appear in small molecules but not in complex molecules:\n",
    "Draw.MolsToGridImage([Chem.MolFromSmiles(s) for s in list(set(pbrics_small) - set(pbrics_complex))], \n",
    "                     molsPerRow=6, subImgSize=(200, 200),\n",
    "                     maxMols=60)"
   ]
  },
  {
   "cell_type": "code",
   "execution_count": null,
   "metadata": {},
   "outputs": [],
   "source": [
    "# fragments that appear in complex molecules but not in small molecules:\n",
    "Draw.MolsToGridImage([Chem.MolFromSmiles(s) for s in list( set(pbrics_complex) - set(pbrics_small))], \n",
    "                     molsPerRow=6, subImgSize=(200, 200),\n",
    "                     maxMols=40)"
   ]
  }
 ],
 "metadata": {
  "kernelspec": {
   "display_name": "regio_data",
   "language": "python",
   "name": "python3"
  },
  "language_info": {
   "codemirror_mode": {
    "name": "ipython",
    "version": 3
   },
   "file_extension": ".py",
   "mimetype": "text/x-python",
   "name": "python",
   "nbconvert_exporter": "python",
   "pygments_lexer": "ipython3",
   "version": "3.11.10"
  }
 },
 "nbformat": 4,
 "nbformat_minor": 2
}
