{
  "cells": [
    {
      "cell_type": "code",
      "execution_count": 3,
      "metadata": {
        "id": "ZOiXySGVIZS6"
      },
      "outputs": [],
      "source": [
        "import os\n",
        "import random\n",
        "import pandas as pd\n",
        "import numpy as np\n",
        "import scipy.sparse as sp\n",
        "import seaborn as sns\n",
        "import matplotlib.pyplot as plt\n",
        "\n",
        "from tqdm import tqdm\n",
        "\n",
        "from scipy.spatial.distance import squareform\n",
        "from scipy.stats import fisher_exact\n",
        "\n",
        "from sklearn.cluster import SpectralClustering\n",
        "from sklearn.model_selection import KFold, train_test_split, GroupKFold\n",
        "\n",
        "from rdkit import Chem\n",
        "from rdkit.Chem import QED, AllChem\n",
        "from rdkit.Chem.MolStandardize import rdMolStandardize\n",
        "from rdkit.Chem.Scaffolds import MurckoScaffold\n",
        "from rdkit.Chem.Draw import MolsToGridImage\n",
        "from rdkit.DataStructs.cDataStructs import BulkTanimotoSimilarity, ExplicitBitVect\n",
        "\n",
        "%matplotlib inline\n",
        "%config InlineBackend.figure_formats = ['svg']\n",
        "\n",
        "random_seed = 1\n",
        "np.random.seed(random_seed)\n",
        "random.seed(random_seed)"
      ]
    },
    {
      "cell_type": "code",
      "execution_count": 15,
      "metadata": {
        "collapsed": true,
        "id": "EYWULwn_S58d"
      },
      "outputs": [],
      "source": [
        "def get_fingerprints(mol, rad=2):\n",
        "\n",
        "    fps = dict()\n",
        "    fps['ec_bit_fp'] = AllChem.GetMorganFingerprintAsBitVect(mol, rad, nBits=2048)\n",
        "    fps['rdkit_bit_fp'] = Chem.RDKFingerprint(mol, maxPath=rad * 2)\n",
        "\n",
        "    return fps\n",
        "\n",
        "def dataset_to_fingerprints(df_raw):\n",
        "\n",
        "    smiles = df_raw.Reactant_SMILES.unique()\n",
        "    smiles = set([Chem.CanonSmiles(s) for s in smiles])\n",
        "\n",
        "    big_smiles   = []\n",
        "    small_smiles = []\n",
        "    for smiles in smiles:\n",
        "        mol = Chem.MolFromSmiles(smiles)\n",
        "        num_C = [atom.GetAtomicNum() for atom in mol.GetAtoms()].count(6)\n",
        "        if num_C > 15:\n",
        "            big_smiles.append(smiles)\n",
        "        else:\n",
        "            small_smiles.append(smiles)\n",
        "\n",
        "    fps = [get_fingerprints(Chem.MolFromSmiles(mol)) for mol in small_smiles+big_smiles]\n",
        "\n",
        "    return pd.DataFrame(fps), len(small_smiles), len(small_smiles+big_smiles)\n",
        "\n",
        "# precompute the pairwise distances between all molecules for the rdkit and ecfp bit vectors\n",
        "\n",
        "def precompute_kernel(bit_vecs_sp):\n",
        "    # convert scipy sparse fingerprints back to rdkit bit vectors\n",
        "    bit_vecs_rdkit = []\n",
        "    print (bit_vecs_sp)\n",
        "    for bv in bit_vecs_sp:\n",
        "        # bv = ExplicitBitVect(bit_vec.shape[1])\n",
        "        # bv.SetBitsFromList(bv.indices.tolist())\n",
        "        bit_vecs_rdkit.append(bv)\n",
        "\n",
        "\n",
        "    # generate pair-wise distances and similarities\n",
        "    dists = []\n",
        "    for i in tqdm(range(len(bit_vecs_rdkit))):\n",
        "        dists.extend(\n",
        "            BulkTanimotoSimilarity(\n",
        "                bit_vecs_rdkit[i],\n",
        "                bit_vecs_rdkit[(i+1):],\n",
        "                returnDistance=True\n",
        "            )\n",
        "        )\n",
        "    dists = squareform(dists)\n",
        "    return dists"
      ]
    },
    {
      "cell_type": "markdown",
      "metadata": {
        "id": "tQP7okgu1-7f"
      },
      "source": [
        "## Calculate kernels"
      ]
    },
    {
      "cell_type": "code",
      "execution_count": null,
      "metadata": {
        "colab": {
          "base_uri": "https://localhost:8080/"
        },
        "id": "dxhCPs4x17tP",
        "outputId": "ea4e73ff-041b-4c29-a350-c3c9d7b2ca3b"
      },
      "outputs": [],
      "source": [
        "df_dioxirane, n_train_dioxirane, len_dioxirane  = dataset_to_fingerprints(pd.read_csv(f\"../data/descriptors/preprocessed_dioxirane_reactions/df_custom.csv\", index_col=0))\n",
        "pk_dioxirane = {fp: precompute_kernel(df_dioxirane[fp]) for fp in [\"ec_bit_fp\", \"rdkit_bit_fp\"]}\n",
        "\n",
        "df_borylation, n_train_borylation, len_borylation  = dataset_to_fingerprints(pd.read_csv(f\"../data/descriptors/preprocessed_borylation_reactions/df_custom.csv\", index_col=0))\n",
        "pk_borylation = {fp: precompute_kernel(df_borylation[fp]) for fp in [\"ec_bit_fp\", \"rdkit_bit_fp\"]}"
      ]
    },
    {
      "cell_type": "markdown",
      "metadata": {
        "id": "36c191VoIZS_"
      },
      "source": [
        "\n",
        "## Calculate covariate shift"
      ]
    },
    {
      "cell_type": "code",
      "execution_count": 28,
      "metadata": {
        "colab": {
          "base_uri": "https://localhost:8080/"
        },
        "id": "ELqojxGZIZS_",
        "outputId": "bbba5384-fad2-4e9b-bbda-b79915392a44"
      },
      "outputs": [
        {
          "name": "stdout",
          "output_type": "stream",
          "text": [
            "dioxirane results\n",
            "                ec_bit_fp  rdkit_bit_fp\n",
            "random           0.000000      0.000000\n",
            "carbons number   0.072092      0.090653\n",
            "borylation results\n",
            "                ec_bit_fp  rdkit_bit_fp\n",
            "random           0.000000      0.000000\n",
            "carbons number   0.128525      0.122086\n"
          ]
        }
      ],
      "source": [
        "from random import sample\n",
        "def kernel_2samp_test(train_idx, sim_mat, verbose=False):\n",
        "    \"\"\"\n",
        "    Implements the unbiased estimator of the maximum mean discrepancy statistic for a training index splitting a given kenrel similarity matrix.\n",
        "    \"\"\"\n",
        "\n",
        "    train_mean = (sim_mat[np.ix_(train_idx, train_idx)].sum() - train_idx.shape[0]) / (train_idx.shape[0] * (train_idx.shape[0] - 1))\n",
        "    test_mean = (sim_mat[np.ix_(~train_idx, ~train_idx)].sum() - (~train_idx).shape[0]) / ((~train_idx).shape[0] * ((~train_idx).shape[0] - 1))\n",
        "    train_test_mean = (sim_mat[np.ix_(train_idx, ~train_idx)].sum()) / (train_idx.shape[0] * ((~train_idx).shape[0]))\n",
        "    if verbose:\n",
        "      print(f\"train mean - {train_mean:.3f}, test mean - {test_mean:.3f}, train-test mean - {train_test_mean:.3f}\")\n",
        "\n",
        "    mmd_squared = train_mean + test_mean - 2 * train_test_mean\n",
        "    if not np.all(mmd_squared > 0):\n",
        "      return 0\n",
        "\n",
        "    return np.sqrt(mmd_squared)\n",
        "\n",
        "\n",
        "print (\"dioxirane results\")\n",
        "cov_shift_results = {}\n",
        "\n",
        "for kernel in pk_dioxirane:\n",
        "    cov_shift_results[kernel] = [kernel_2samp_test(np.array(sample(range(len_dioxirane), n_train_dioxirane)), 1 - pk_dioxirane[kernel])]\n",
        "    cov_shift_results[kernel].append(kernel_2samp_test(np.array(sample(range(n_train_dioxirane), n_train_dioxirane)), 1 - pk_dioxirane[kernel]))\n",
        "\n",
        "cov_shift_results = pd.DataFrame(cov_shift_results, index = ['random', 'carbons number'])\n",
        "print (cov_shift_results)\n",
        "\n",
        "print (\"borylation results\")\n",
        "cov_shift_results = {}\n",
        "\n",
        "for kernel in pk_borylation:\n",
        "    cov_shift_results[kernel] = [kernel_2samp_test(np.array(sample(range(len_borylation), n_train_borylation)), 1 - pk_borylation[kernel])]\n",
        "    cov_shift_results[kernel].append(kernel_2samp_test(np.array(sample(range(n_train_borylation), n_train_borylation)), 1 - pk_borylation[kernel]))\n",
        "\n",
        "cov_shift_results = pd.DataFrame(cov_shift_results, index = ['random', 'carbons number'])\n",
        "print (cov_shift_results)\n"
      ]
    }
  ],
  "metadata": {
    "colab": {
      "provenance": []
    },
    "kernelspec": {
      "display_name": "qsavi",
      "language": "python",
      "name": "qsavi"
    },
    "language_info": {
      "codemirror_mode": {
        "name": "ipython",
        "version": 3
      },
      "file_extension": ".py",
      "mimetype": "text/x-python",
      "name": "python",
      "nbconvert_exporter": "python",
      "pygments_lexer": "ipython3",
      "version": "3.10.8"
    }
  },
  "nbformat": 4,
  "nbformat_minor": 0
}
