{
 "cells": [
  {
   "cell_type": "code",
   "execution_count": 1,
   "metadata": {},
   "outputs": [],
   "source": [
    "import pandas as pd\n",
    "from rdkit import Chem  \n",
    "from rdkit.Chem import AllChem, Draw\n",
    "from rdkit.Chem import Descriptors\n",
    "import os\n",
    "import sys\n",
    "sys.path.append('../../../utils')\n",
    "from preprocessing import is_mol_symmetric, group_symmetric_atoms"
   ]
  },
  {
   "cell_type": "code",
   "execution_count": 2,
   "metadata": {},
   "outputs": [
    {
     "name": "stdout",
     "output_type": "stream",
     "text": [
      "Keepers:  199\n",
      "Discarded:  56\n"
     ]
    }
   ],
   "source": [
    "# loading the csvs from the preprocessed reactions\n",
    "csvs = os.listdir('../preprocessed_reactions')\n",
    "csvs = [x for x in csvs if x.endswith('.csv')]\n",
    "csvs = [x for x in csvs if 'df' in x]\n",
    "\n",
    "# getting the list of smiles\n",
    "df_ = pd.read_csv('../preprocessed_reactions/' + csvs[0], index_col=0)\n",
    "smiles = df_.Reactant_SMILES.unique()\n",
    "\n",
    "# discard the smiles with no specified stereocenters.\n",
    "# racemic mixtures are ok, but we discard non specific diastereoisomers\n",
    "def discard(smi):\n",
    "    m = Chem.MolFromSmiles(smi)\n",
    "    chiral_tags1      = Chem.FindMolChiralCenters(m, includeUnassigned=True)\n",
    "    mol_sym           = is_mol_symmetric(smi)\n",
    "    if mol_sym:\n",
    "        m, sym_at = group_symmetric_atoms(smi)\n",
    "    num_stereocenters = len(chiral_tags1)\n",
    "\n",
    "    # if there are no stereocenters, we can't discard it\n",
    "    if num_stereocenters == 0:\n",
    "        #print(\"No stereocenters: keeper\")\n",
    "        return False\n",
    "    \n",
    "    # if there is only one stereocenter, we can't discard it\n",
    "    elif num_stereocenters == 1:\n",
    "        #print(\"1 stereocenters: keeper\")\n",
    "        return False\n",
    "    \n",
    "    # if there are more than one stereocenters:\n",
    "    else:\n",
    "        # if all stereocenters are assigned, we can't discard it\n",
    "        if all([x[1] != \"?\" for x in chiral_tags1]):\n",
    "            #print(\"All stereocenters are assigned: keeper\")\n",
    "            #print(chiral_tags1)\n",
    "            return False\n",
    "        \n",
    "        else:\n",
    "            mol_sym  = is_mol_symmetric(smi)\n",
    "            if mol_sym:\n",
    "                m, sym_at = group_symmetric_atoms(smi)\n",
    "                #print(\"Molecule is symmetric - should we discard?: discard for now\")\n",
    "                return True\n",
    "            else:\n",
    "                #print(\"Molecule is not symmetric - and not all stereocenters are assigned: discard\")\n",
    "                return True\n",
    "            \n",
    "keepers   = [x for x in smiles if not discard(x)]\n",
    "discarded = [x for x in smiles if x not in keepers]\n",
    "\n",
    "print(\"Keepers: \", len(keepers))\n",
    "print(\"Discarded: \", len(discarded))\n",
    "\n",
    "#Draw.MolsToGridImage([Chem.MolFromSmiles(x) for x in keepers], molsPerRow=5, subImgSize=(200,200), legends=[x for x in keepers])"
   ]
  },
  {
   "cell_type": "code",
   "execution_count": 4,
   "metadata": {},
   "outputs": [
    {
     "name": "stdout",
     "output_type": "stream",
     "text": [
      "BrC12CC3CC(CC(C3)C1)C2.Brc1ccc(C2CCC2)cc1.C/C(=C/CC(C)O)[N+](=O)[O-].C1C2C3[C@H]4C1[C@@H]([C@@H]23)[C@@H]1C2CC3[C@@H]1[C@H]3[C@H]24.C1C2CC3CC1CC(C2)C3.C1C2CC3CC1CC(C2)C31CC1.C1C2C[C@H]3CC(C[C@@H]1C3)[C@@]21CO1.C1CC2CCC1C2.C1CC2CCC1CC2.C1CCC2(CC1)CC2.C1CCC[C@H]2C[C@H]2CC1.C1CCOC1.C1CCOCC1.C1CC[C@@H]2CCC[C@H]2C1.C1CC[C@H]2CCCC[C@@H]2C1.C1CC[C@H]2CCCC[C@H]2C1.C1CC[C@H]2O[C@H]2C1.C1CN2CCC1CC2.C1C[C@H]2C[C@@H]12.CC(=O)C1CCCC1=O.CC(=O)C1CCOC1=O.CC(=O)NC1[C@H]2C[C@@H]3C[C@@H](C[C@H]1C3)C2.CC(=O)OC1[C@H]2C[C@@H]3C[C@@H](C[C@H]1C3)C2.CC(=O)OCCC(C)CCCC(C)C.CC(=O)O[C@@H]1C[C@H](C)CC[C@H]1C(C)C.CC(=O)O[C@H]1CCC[C@@H]2CCCC[C@@H]21.CC(C)(C)C1CCC(O)CC1.CC(C)C(C)C.CC(C)C1CC1.CC(C)CC(C)(C)O.CC(C)CCC(C)(C)C.CC(C)CCC(C)(C)O.CC(C)CCC(C)N.CC(C)CCC1CC1.CC(C)CCN.CC(C)CCOC(=O)c1ccccc1.CC(C)Cc1ccccc1.CC(C)O.CC(C)c1ccccc1.CC(O)CCCCO.CC(O)CCCO.CC(O)CCO.CC(O)c1cc2ccccc2o1.CC(O)c1ccc(Br)cc1.CC(O)c1ccc(C#N)cc1.CC(O)c1ccc(Cl)cc1.CC(O)c1ccc(F)cc1.CC(O)c1ccccc1.CC1(C)OC12C1CC3CC(C1)CC2C3.CC1(C)[C@@H]2CC[C@@]1(C)[C@@H](O)C2.CC1(C)[C@@H]2C[C@H](O)[C@@](C)(O)[C@H]1C2.CC1CCC(c2ccccc2)CC1.CC1CCCCC1.CC1CCCOC1.CC1CCNCC1.CC1Cc2ccccc2CO1.CC1c2ccccc2-c2ccccc21.CCC(=O)C1CCOC1=O.CCC(C)(O)C(C)C.CCC(C)(O)CCCC(C)C.CCC(C)C.CCCC(C)C.CCCC(O)CO.CCCCC(C)C.CCCCC1CC1.CCCCCC(=O)C(=O)OC.CCCCCC(C)C.CCCCCC(O)CC.CCCCCCC.CCCCCCC(=O)C(=O)OC.CCCCO.CCCCOC(=O)c1ccc(Cl)cc1.CC[C@H](C)c1ccccc1.CCc1ccccc1.COC(=O)C(=O)CCC1CCCCC1.COc1ccc(C(C)O)cc1.C[C@@H](O)C[C@H]1CO1.C[C@@H](O)[C@H](O)c1ccccc1.C[C@@H](O)[C@H]1CO1.C[C@@H]1CCCC[C@@H]1C.C[C@H](O)[C@H](C)O.C[C@H]1CCCC[C@@H]1C.C[C@]12CC[C@@H]3O[C@@H]3[C@@H]1CC[C@@H]2O.Cc1ccc(C(C)O)cc1.FC1[C@H]2C[C@@H]3C[C@@H](C[C@H]1C3)C2.N#CC12CC3CC(CC(C3)C1)C2.O=C(CCC1CCCCC1)C(F)(F)F.O=C(CCl)CCC1CCCCC1.O=C(CCl)CCCC1CCCCC1.O=C(CF)CCC1CCCCC1.O=C(CF)CCCC1CCCCC1.O=[N+]([O-])OC1[C@H]2C[C@@H]3C[C@@H](C[C@H]1C3)C2.OC12C3C4C5C3C1C5C42.OC12CC3CC(CC(C3)C1)C2.OC1C2CC3CC(C2)CC1C3.OC1CC2CCC1(O)CC2.OC1CCC(O)CC1.OC1CCC1.OC1CCCCC1.OC[C@H]1CCC[C@H]1O.O[C@@H]1CCCC[C@H]1O.O[C@@H]1C[C@@H]2CC[C@H]1C2.O[C@H]1CCCCC[C@@H]2O[C@@H]21.O[C@H]1C[C@H]2CC[C@]1(O)CC2.[NH3+]C1[C@H]2C[C@@H]3C[C@@H](C[C@H]1C3)C2.c1ccc(C2CCCCC2)cc1.c1ccc(Cc2ccccc2)cc1.c1ccc2c(c1)CCOC2.c1ccc2c(c1)COC2.c1ccc2c(c1)Cc1ccccc1C2.c1ccc2c(c1)Cc1ccccc1O2.\n"
     ]
    }
   ],
   "source": [
    "smi_d = ''\n",
    "for s in sorted(keepers):\n",
    "    if Chem.MolFromSmiles(s).GetNumAtoms() < 15:\n",
    "        smi_d += s + '.'\n",
    "\n",
    "print(smi_d)"
   ]
  },
  {
   "cell_type": "code",
   "execution_count": 5,
   "metadata": {},
   "outputs": [
    {
     "name": "stdout",
     "output_type": "stream",
     "text": [
      "199\n",
      "199\n",
      "199\n",
      "199\n",
      "199\n",
      "199\n",
      "199\n",
      "199\n",
      "199\n",
      "199\n"
     ]
    }
   ],
   "source": [
    "for csv in csvs:\n",
    "    df = pd.read_csv('../preprocessed_reactions/' + csv, index_col=0)\n",
    "    df = df[df.Reactant_SMILES.isin(keepers)]\n",
    "    df.reset_index(drop=True, inplace=True)\n",
    "    df.to_csv(csv)"
   ]
  },
  {
   "cell_type": "code",
   "execution_count": null,
   "metadata": {},
   "outputs": [],
   "source": []
  }
 ],
 "metadata": {
  "kernelspec": {
   "display_name": "ch_ox",
   "language": "python",
   "name": "python3"
  },
  "language_info": {
   "codemirror_mode": {
    "name": "ipython",
    "version": 3
   },
   "file_extension": ".py",
   "mimetype": "text/x-python",
   "name": "python",
   "nbconvert_exporter": "python",
   "pygments_lexer": "ipython3",
   "version": "3.11.0"
  }
 },
 "nbformat": 4,
 "nbformat_minor": 2
}
