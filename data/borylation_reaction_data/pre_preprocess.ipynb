{
 "cells": [
  {
   "cell_type": "code",
   "execution_count": 1,
   "metadata": {},
   "outputs": [],
   "source": [
    "import sys\n",
    "import os\n",
    "root = os.getcwd()\n",
    "\n",
    "try:\n",
    "    base_cwd = root.split('regiochem')[0]\n",
    "    base_cwd = f\"{base_cwd}regiochem\"\n",
    "except:\n",
    "    raise ValueError(\"You are not in the right directory, need to be in the 'notebooks' directory or subdirectory of it.\")\n",
    "\n",
    "sys.path.append(f\"{base_cwd}/utils/\")"
   ]
  },
  {
   "cell_type": "code",
   "execution_count": 2,
   "metadata": {},
   "outputs": [],
   "source": [
    "import pandas as pd\n",
    "from rdkit import Chem\n",
    "from rdkit.Chem import AllChem, rdmolfiles, rdChemReactions\n",
    "from tqdm import tqdm\n",
    "import preprocessing as pp"
   ]
  },
  {
   "cell_type": "code",
   "execution_count": 3,
   "metadata": {},
   "outputs": [],
   "source": [
    "boron_regio = pd.read_csv(\"borylation_regio.csv\")"
   ]
  },
  {
   "cell_type": "code",
   "execution_count": 4,
   "metadata": {},
   "outputs": [
    {
     "name": "stderr",
     "output_type": "stream",
     "text": [
      "100%|██████████| 105/105 [00:00<00:00, 776.22it/s]\n"
     ]
    }
   ],
   "source": [
    "smis = []\n",
    "rxn   = rdChemReactions.ReactionFromSmarts('[B:0]([O:1])[O:2]>>[B:0].[O:1].[O:2]')\n",
    "for s in tqdm(boron_regio[\"product_1_smiles\"]):\n",
    "    mol = Chem.MolFromSmiles(s)\n",
    "    b_count = 0\n",
    "    for a in mol.GetAtoms():\n",
    "        if a.GetAtomicNum() == 5:\n",
    "            b_count += 1\n",
    "    if b_count != 1:\n",
    "        print(b_count)\n",
    "    for i in range(b_count):\n",
    "        prod_ = rxn.RunReactant(mol, 0)\n",
    "        mol = prod_[0][0]\n",
    "    \n",
    "    s = Chem.MolToSmiles(mol)\n",
    "    smis.append(s)\n",
    "    \n",
    "boron_regio[\"Product_SMILES\"] = smis"
   ]
  },
  {
   "cell_type": "code",
   "execution_count": 5,
   "metadata": {},
   "outputs": [],
   "source": [
    "boron_regio.to_csv(\"borylation_regio.csv\")"
   ]
  },
  {
   "cell_type": "code",
   "execution_count": 6,
   "metadata": {},
   "outputs": [
    {
     "name": "stderr",
     "output_type": "stream",
     "text": [
      "100%|██████████| 105/105 [00:08<00:00, 12.30it/s]\n"
     ]
    },
    {
     "name": "stdout",
     "output_type": "stream",
     "text": [
      "First part of the cleaning completed\n"
     ]
    },
    {
     "name": "stderr",
     "output_type": "stream",
     "text": [
      "100%|██████████| 82/82 [00:00<00:00, 2077.10it/s]"
     ]
    },
    {
     "name": "stdout",
     "output_type": "stream",
     "text": [
      "0 molecules with no selectivity.\n"
     ]
    },
    {
     "name": "stderr",
     "output_type": "stream",
     "text": [
      "\n",
      "/Users/anjali/Desktop/reisman lab/regiochem/utils/preprocessing.py:230: SettingWithCopyWarning: \n",
      "A value is trying to be set on a copy of a slice from a DataFrame\n",
      "\n",
      "See the caveats in the documentation: https://pandas.pydata.org/pandas-docs/stable/user_guide/indexing.html#returning-a-view-versus-a-copy\n",
      "  df_.drop_duplicates(subset='Reactant_SMILES', keep='first', inplace=True)\n"
     ]
    },
    {
     "data": {
      "text/plain": [
       "'/Users/anjali/Desktop/reisman lab//regiochem/data/borylation_reaction_data/numbered_reaction_1.csv'"
      ]
     },
     "execution_count": 6,
     "metadata": {},
     "output_type": "execute_result"
    }
   ],
   "source": [
    "pp.preprocess(\"borylation_regio.csv\", rxn_folder=\"borylation_reaction_data\", atom=\"B\")"
   ]
  },
  {
   "cell_type": "code",
   "execution_count": null,
   "metadata": {},
   "outputs": [],
   "source": []
  }
 ],
 "metadata": {
  "kernelspec": {
   "display_name": "regio_ch",
   "language": "python",
   "name": "python3"
  },
  "language_info": {
   "codemirror_mode": {
    "name": "ipython",
    "version": 3
   },
   "file_extension": ".py",
   "mimetype": "text/x-python",
   "name": "python",
   "nbconvert_exporter": "python",
   "pygments_lexer": "ipython3",
   "version": "3.11.0"
  }
 },
 "nbformat": 4,
 "nbformat_minor": 2
}
