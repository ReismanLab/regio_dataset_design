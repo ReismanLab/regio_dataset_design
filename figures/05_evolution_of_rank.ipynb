{
 "cells": [
  {
   "cell_type": "code",
   "execution_count": null,
   "metadata": {},
   "outputs": [],
   "source": [
    "# imports\n",
    "import pickle\n",
    "import sys\n",
    "sys.path.append(f\"../active_learning/regression\")\n",
    "sys.path.append(f\"../utils\")\n",
    "import acqf as a\n",
    "import acquisition as aq\n",
    "import modelling as md\n",
    "from tqdm import tqdm\n",
    "from sklearn.ensemble import RandomForestRegressor\n",
    "from rdkit.Chem import rdFMCS\n",
    "import pandas as pd\n",
    "import numpy as np\n",
    "from sklearn.base import clone\n"
   ]
  },
  {
   "cell_type": "code",
   "execution_count": 2,
   "metadata": {},
   "outputs": [],
   "source": [
    "# initialization with SMILES and model-descriptor.\n",
    "target_SMILES = \"CC1(C)CCC[C@]2(C)[C@H]3CC(=O)O[C@]3(C)CC[C@@H]12\"\n",
    "products = [\"O=C(O[C@@]1(CC[C@@]23[H])C)C[C@@H]1[C@@]3(C)C[C@@H](O)CC2(C)C\",\n",
    "             \"O=C(O[C@@]1(CC[C@@]23[H])C)C[C@@H]1[C@@]3(C)CCC(C2(C)C)=O\",\n",
    "             \"O=C(O[C@@]1(CC[C@@]23[H])C)C[C@@H]1[C@@]3(C)CC(CC2(C)C)=O\"]\n",
    "sels = None\n",
    "yields = [25, 57, 18]\n",
    "feature_choice = \"custom\"\n",
    "atom = \"O\"\n",
    "df_folder = 'preprocessed_reactions_no_unspec_no_intra_unnorm'\n",
    "file = \"../results/active_learning/regression/experimental/results_CC1(C)CCC[C@]2(C)[C@H]3CC(=O)O[C@]3(C)CC[C@@H]12_1_coldstart_custom.pkl\""
   ]
  },
  {
   "cell_type": "code",
   "execution_count": 3,
   "metadata": {},
   "outputs": [],
   "source": [
    "if sels:\n",
    "    target_df = pd.DataFrame({\"Reactant_SMILES\": [target_SMILES]*len(products), \"Product_SMILES\": products, \"rxn_ID\":[0]*len(products), \"Selectivity (%)\": sels})\n",
    "else:\n",
    "    target_df = pd.DataFrame({\"Reactant_SMILES\": [target_SMILES]*len(products), \"Product_SMILES\": products, \"rxn_ID\":[0]*len(products), \"Yield (%)\": yields, \"Selectivity (%)\":[np.nan]*len(products)})\n",
    "target_df.to_csv(\"target.csv\")"
   ]
  },
  {
   "cell_type": "code",
   "execution_count": null,
   "metadata": {},
   "outputs": [],
   "source": [
    "dfs = []\n",
    "if feature_choice in [\"xtb\", \"custom\", \"selected\"]:\n",
    "    target_df = md.prepare_reactivity_mapping('XTB', file=\"target.csv\", \n",
    "                                            preprocess=True,\n",
    "                                            normalize=False, threshold_correlated=1,\n",
    "                                            rxn_folder=\"target_data\", atom=atom)\n",
    "    dfs.append(target_df)\n",
    "if feature_choice in [\"bde\", \"custom\", \"selected\"]:\n",
    "    target_df = md.prepare_reactivity_mapping('BDE', file=\"target.csv\", \n",
    "                                            preprocess=True,\n",
    "                                            normalize=False, threshold_correlated=1,\n",
    "                                            rxn_folder=\"target_data\", atom=atom)\n",
    "    dfs.append(target_df)\n",
    "if feature_choice in [\"gas\", \"custom\", \"selected\"]:\n",
    "    target_df = md.prepare_reactivity_mapping('Gasteiger', file=\"target.csv\", \n",
    "                                            preprocess=True,\n",
    "                                            normalize=False, threshold_correlated=1,\n",
    "                                            rxn_folder=\"target_data\", atom=atom)\n",
    "    dfs.append(target_df)\n",
    "if feature_choice in [\"env1\", \"selected\"]:\n",
    "    target_df = md.prepare_reactivity_mapping('ENV-1', file=\"target.csv\", \n",
    "                                            preprocess=True,\n",
    "                                            normalize=False, threshold_correlated=1,\n",
    "                                            rxn_folder=\"target_data\", atom=atom)\n",
    "    dfs.append(target_df)\n",
    "if feature_choice in [\"env2\", \"selected\"]:\n",
    "    target_df = md.prepare_reactivity_mapping('ENV-2', file=\"target.csv\", \n",
    "                                            preprocess=True,\n",
    "                                            normalize=False, threshold_correlated=1,\n",
    "                                            rxn_folder=\"target_data\", atom=atom)\n",
    "    dfs.append(target_df)\n",
    "if feature_choice in [\"dbstep\", \"selected\"]:\n",
    "    target_df = md.prepare_reactivity_mapping('DBSTEP', file=\"target.csv\", \n",
    "                                            preprocess=True,\n",
    "                                            normalize=False, threshold_correlated=1,\n",
    "                                            rxn_folder=\"target_data\", atom=atom)\n",
    "    dfs.append(target_df)\n",
    "\n",
    "df = a.make_descriptors_basic(option=feature_choice, df_folder=df_folder)\n",
    "if len(dfs) == 1:\n",
    "    targ = dfs[0]\n",
    "else:\n",
    "    targ = pd.DataFrame()\n",
    "    for col in df.columns:\n",
    "        for df_ in dfs:\n",
    "            if col in df_.columns:\n",
    "                targ[col] = df_[col]"
   ]
  },
  {
   "cell_type": "code",
   "execution_count": 5,
   "metadata": {},
   "outputs": [],
   "source": [
    "# set atom of interest to most reactive carbon, or something other atom of interest\n",
    "atom_of_interest = 3"
   ]
  },
  {
   "cell_type": "code",
   "execution_count": 6,
   "metadata": {},
   "outputs": [],
   "source": [
    "def rank_of_atom(y_pt, atom_of_interest):\n",
    "    sorted_items = sorted(y_pt.items(), key=lambda kv: (kv[1], kv[0]), reverse=True)\n",
    "\n",
    "    for i in range(len(sorted_items)):\n",
    "        kv = sorted_items[i]\n",
    "        if kv[0] == atom_of_interest:\n",
    "            return i+1"
   ]
  },
  {
   "cell_type": "code",
   "execution_count": 7,
   "metadata": {},
   "outputs": [],
   "source": [
    "with open(file, 'rb') as f:\n",
    "    results_1 = pickle.load(f)\n",
    "t5, smis, carbon_preds = results_1"
   ]
  },
  {
   "cell_type": "code",
   "execution_count": null,
   "metadata": {},
   "outputs": [],
   "source": [
    "from rdkit import Chem\n",
    "Chem.MolFromSmiles('CC1(C)CCC[C@]2(C)[C@H]3CC(=O)O[C@]3(C)CC[C@@H]12')"
   ]
  },
  {
   "cell_type": "code",
   "execution_count": null,
   "metadata": {},
   "outputs": [],
   "source": [
    "Chem.MolFromSmiles('C[C@@H]1CC[C@H]2C(C)(C)[C@H]3C[C@@]12CC[C@@]3(C)O')"
   ]
  },
  {
   "cell_type": "code",
   "execution_count": 10,
   "metadata": {},
   "outputs": [],
   "source": [
    "afs = ['random',\n",
    "                             'acqf_1', 'acqf_10',\n",
    "                             'acqf_2-1', 'acqf_3', 'acqf_4-1', \n",
    "                             'acqf_5', 'acqf_6', 'acqf_7', 'acqf_9']"
   ]
  },
  {
   "cell_type": "code",
   "execution_count": 11,
   "metadata": {},
   "outputs": [],
   "source": [
    "af_mean_ranks = {}\n",
    "af_std_ranks  = {}\n",
    "for i in range(len(carbon_preds)):\n",
    "    af_y = carbon_preds[i]\n",
    "    af = afs[i]\n",
    "    all_af_ranks = []\n",
    "    for run in af_y:\n",
    "        y = run[0]\n",
    "        ranks = []\n",
    "        for y_pt in y:\n",
    "            ranks.append(rank_of_atom(y_pt, atom_of_interest))\n",
    "        all_af_ranks.append(ranks)\n",
    "    all_af_ranks = np.array(all_af_ranks)\n",
    "    af_mean_ranks[af] = all_af_ranks.mean(axis=0)\n",
    "    af_std_ranks[af] = all_af_ranks.std(axis=0)"
   ]
  },
  {
   "cell_type": "code",
   "execution_count": 12,
   "metadata": {},
   "outputs": [],
   "source": [
    "labels = [\"Random\", \"AL\", \"AL + Small molecules\"]\n",
    "colors = ['gray', 'skyblue','tab:blue']"
   ]
  },
  {
   "cell_type": "code",
   "execution_count": 13,
   "metadata": {},
   "outputs": [],
   "source": [
    "import matplotlib.pyplot as plt"
   ]
  },
  {
   "cell_type": "code",
   "execution_count": null,
   "metadata": {},
   "outputs": [],
   "source": [
    "num_acqf = len(af_mean_ranks[\"random\"])\n",
    "afs_of_interest = [\"random\", \"acqf_1\", \"acqf_10\"]\n",
    "\n",
    "fig, ax = plt.subplots(figsize=(6, 4))\n",
    "for i in range(len(afs_of_interest)):\n",
    "    af = afs_of_interest[i]\n",
    "    mean_ranks = af_mean_ranks[af]\n",
    "    ax.plot(mean_ranks, color=colors[i], linewidth=2)\n",
    "    std_ranks = af_std_ranks[af]\n",
    "    ax.fill_between(range(num_acqf), mean_ranks-std_ranks, mean_ranks+std_ranks, color=colors[i], alpha=0.2)\n",
    "    ax.invert_yaxis()\n",
    "    #ax.gca().invert_yaxis()\n",
    "#plt.legend(labels)\n",
    "fig.tight_layout()\n",
    "plt.show()\n",
    "fig.savefig(\"rank_of_atom_fig_5.png\", dpi=600)"
   ]
  }
 ],
 "metadata": {
  "kernelspec": {
   "display_name": "regio_data",
   "language": "python",
   "name": "python3"
  },
  "language_info": {
   "codemirror_mode": {
    "name": "ipython",
    "version": 3
   },
   "file_extension": ".py",
   "mimetype": "text/x-python",
   "name": "python",
   "nbconvert_exporter": "python",
   "pygments_lexer": "ipython3",
   "version": "3.11.10"
  }
 },
 "nbformat": 4,
 "nbformat_minor": 2
}
