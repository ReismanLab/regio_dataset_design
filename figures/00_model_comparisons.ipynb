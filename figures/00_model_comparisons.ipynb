{
 "cells": [
  {
   "cell_type": "code",
   "execution_count": 7,
   "metadata": {},
   "outputs": [],
   "source": [
    "import pandas as pd\n",
    "import numpy as np\n",
    "import matplotlib.pyplot as plt\n",
    "import seaborn as sns"
   ]
  },
  {
   "cell_type": "markdown",
   "metadata": {},
   "source": [
    "LOO COMPARISON"
   ]
  },
  {
   "cell_type": "code",
   "execution_count": null,
   "metadata": {},
   "outputs": [],
   "source": [
    "# leave one-out comparison\n",
    "# load data\n",
    "df_reg     = pd.read_csv('../model_validation/regression/loo/df_mean_runs.csv', index_col=0)\n",
    "df_reg_std = pd.read_csv('../model_validation/regression/loo/df_std_runs.csv', index_col=0)\n",
    "\n",
    "\n",
    "df_reg.columns"
   ]
  },
  {
   "cell_type": "code",
   "execution_count": 3,
   "metadata": {},
   "outputs": [],
   "source": [
    "def make_regression_table(df_reg, df_reg_std, cutoff_top1=70, cutoff_top_avg=2, \n",
    "                          discard_rf2=True, sort_by='TOP-AVG'):  \n",
    "    max_elements = 20 \n",
    "    round_ = 2\n",
    "    df_reg.rename(columns={'TOP1': 'TOP-1', 'TOP2': 'TOP-2', 'TOP3': 'TOP-3', 'TOP5': 'TOP-5', 'TOPAVG': 'TOP-AVG', 'Feature': 'Descriptor'}, inplace=True)\n",
    "    df_reg_std.rename(columns={'TOP1': 'TOP-1', 'TOP2': 'TOP-2', 'TOP3': 'TOP-3', 'TOP5': 'TOP-5', 'TOPAVG': 'TOP-AVG', 'Feature': 'Descriptor'}, inplace=True)\n",
    "    # report models with performance above 70%\n",
    "    sel = df_reg[df_reg['TOP-1'] >= cutoff_top1]\n",
    "    sel = sel[sel['TOP-AVG'] <= cutoff_top_avg]\n",
    "    if discard_rf2:\n",
    "        sel = sel[sel.Model != 'RF2']\n",
    "\n",
    "    std = df_reg_std.copy()\n",
    "     \n",
    "    print(len(sel))\n",
    "\n",
    "    # rename index:\n",
    "    desc_rename = {'BDE': 'bde', \n",
    "     'XTB': 'xtb', \n",
    "     'DBSTEP': 'steric-dstep', \n",
    "     'Gasteiger': 'charges-gasteiger', \n",
    "     'ENV-1': 'env.', \n",
    "     'ENV-1-OHE': 'env.-ohe',\n",
    "     'ENV-2': 'env-steric-charges(aimnet)',\n",
    "     'Rdkit-Vbur': 'steric-rdkit',\n",
    "     'Selected': 'ML-selected', \n",
    "     'Custom': 'Chemist-selected'}\n",
    "    \n",
    "    models_rename = {'LR': 'LR', \n",
    "                     'RF-OPT-XTB': 'RF-1', \n",
    "                     'RF2' : 'RF-2', \n",
    "                     'SVR' : 'SVR', \n",
    "                     'KNN' : 'k-NN',\n",
    "                     'GPR' : 'GP',\n",
    "                     'MLP2': 'MLP-2', \n",
    "                     'MLP' : 'MLP-1'}\n",
    "    \n",
    "    #sel['Model'] = sel['Model'].map(models_rename)\n",
    "    #sel['Descriptor'] = sel['Descriptor'].map(desc_rename)\n",
    "    #std['Model'] = std['Model'].map(models_rename)\n",
    "    #std['Descriptor'] = std['Descriptor'].map(desc_rename)\n",
    "    # selected special examples:\n",
    "    sel.set_index(['Model', 'Descriptor'], inplace=True)\n",
    "    std.set_index(['Model', 'Descriptor'], inplace=True)\n",
    "    \n",
    "    \n",
    "    if sort_by == 'TOP-AVG':\n",
    "        asc = True\n",
    "    else:\n",
    "        asc = False\n",
    "    sel.sort_values(by=sort_by, ascending=asc, inplace=True)\n",
    "\n",
    "    sel = sel.head(max_elements)\n",
    "    #df_reg_sel = df_reg_sel[[]]\n",
    "    annots    = pd.DataFrame(columns=sel.columns, index=sel.index)\n",
    "    \n",
    "    for i in annots.index:\n",
    "        for j in annots.columns:\n",
    "            annots.loc[i,j] = f\"{round(sel.loc[i,j], round_)} ± {round(std.loc[i,j], round_)}\"\n",
    "    \n",
    "    fig, ax = plt.subplots(figsize=(10, 10))\n",
    "    sns.heatmap(data  = sel,\n",
    "                    fmt   = '',\n",
    "                    annot = annots, \n",
    "                    cmap  = \"viridis\",\n",
    "                    vmin  = 50, vmax=100,\n",
    "                    ax = ax)\n",
    "    ax.xaxis.set_label_position('top')  # Set x-axis label position to the top\n",
    "    ax.xaxis.tick_top()\n",
    "    plt.show()\n",
    "    return sel, std"
   ]
  },
  {
   "cell_type": "code",
   "execution_count": null,
   "metadata": {},
   "outputs": [],
   "source": [
    "d, d_std = make_regression_table(df_reg, df_reg_std, cutoff_top1=50, cutoff_top_avg=2.5)"
   ]
  },
  {
   "cell_type": "markdown",
   "metadata": {},
   "source": [
    "LARGE MOL COMPARISON"
   ]
  },
  {
   "cell_type": "code",
   "execution_count": 5,
   "metadata": {},
   "outputs": [],
   "source": [
    "# load data\n",
    "df_reg_lm     = pd.read_csv('../model_validation/regression/large_mol/df_mean_runs.csv', index_col=0)\n",
    "for i in df_reg_lm.index:\n",
    "    for j in df_reg_lm.columns:\n",
    "        if j in ['TOP1', 'TOP2', 'TOP3', 'TOP5', 'TOP-1', 'TOP-2', 'TOP-3', 'TOP-5']:\n",
    "            df_reg_lm.loc[i,j] = df_reg_lm.loc[i,j]*100/50\n",
    "\n",
    "df_reg_std_lm = pd.read_csv('../model_validation/regression/large_mol/df_std_runs.csv', index_col=0)\n",
    "for i in df_reg_std_lm.index:\n",
    "    for j in df_reg_std_lm.columns:\n",
    "        if j in ['TOP1', 'TOP2', 'TOP3', 'TOP5', 'TOP-1', 'TOP-2', 'TOP-3', 'TOP-5']:\n",
    "            df_reg_std_lm.loc[i,j] = df_reg_std_lm.loc[i,j]*100/50\n"
   ]
  },
  {
   "cell_type": "code",
   "execution_count": null,
   "metadata": {},
   "outputs": [],
   "source": [
    "d, d_std = make_regression_table(df_reg_lm, df_reg_std_lm, cutoff_top1=30, cutoff_top_avg=4, \n",
    "                                 discard_rf2=False, sort_by='TOP-1')"
   ]
  }
 ],
 "metadata": {
  "kernelspec": {
   "display_name": "regio_data",
   "language": "python",
   "name": "python3"
  },
  "language_info": {
   "codemirror_mode": {
    "name": "ipython",
    "version": 3
   },
   "file_extension": ".py",
   "mimetype": "text/x-python",
   "name": "python",
   "nbconvert_exporter": "python",
   "pygments_lexer": "ipython3",
   "version": "3.11.10"
  }
 },
 "nbformat": 4,
 "nbformat_minor": 2
}
