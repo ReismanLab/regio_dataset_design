{
 "cells": [
  {
   "cell_type": "code",
   "execution_count": 4,
   "metadata": {},
   "outputs": [],
   "source": [
    "import pandas as pd\n",
    "from rdkit import Chem\n",
    "import numpy as np"
   ]
  },
  {
   "cell_type": "code",
   "execution_count": 5,
   "metadata": {},
   "outputs": [],
   "source": [
    "# load data\n",
    "df_reactions = pd.read_csv('../data/reaction_data/numbered_reaction.csv')\n"
   ]
  },
  {
   "cell_type": "code",
   "execution_count": null,
   "metadata": {},
   "outputs": [],
   "source": [
    "# clean notations and drop duplicates row due to multiple products\n",
    "df_reactant_conditions = df_reactions[['Catalyst', 'Solvent', 'Time (min)', 'Temperature (ºC)', 'rxn_ID', 'Reactant_SMILES']]\n",
    "df_reactant_conditions['Reactant_SMILES'] = [Chem.CanonSmiles(smiles) for smiles in df_reactant_conditions['Reactant_SMILES']]\n",
    "solvent = {\n",
    "           'Acetone '      : 'Acetone',\n",
    "           'CH2Cl2/ACETONE': 'Acetone/CH2Cl2',\n",
    "           'CH2Cl2/Acetone': 'Acetone/CH2Cl2',\n",
    "           'CH2Cl2/TFP'    : 'CH2Cl2/\\nTrifluoroacetone',\n",
    "           'CH2Cl2/TFA'    : 'CH2Cl2/\\nTrifluoroacetone',\n",
    "           'Acetone/ch2cl2': 'Acetone/CH2Cl2',\n",
    "           'TFP/Acetone'   : ' Acetone/\\nTrifluoroacetone',\n",
    "           'Acetone/TFP'   : ' Acetone/\\nTrifluoroacetone',\n",
    "           'Acetone/TFA'   : ' Acetone/\\nTrifluoroacetone',\n",
    "           }\n",
    "time = {'does not say': np.nan}\n",
    "temp = {'rt': '25'}\n",
    "df_reactant_conditions['Solvent'] = df_reactant_conditions['Solvent'].replace(solvent)\n",
    "df_reactant_conditions['Time (min)'] = df_reactant_conditions['Time (min)'].replace(time)\n",
    "df_reactant_conditions['Temperature (ºC)'] = df_reactant_conditions['Temperature (ºC)'].replace(temp)\n",
    "\n",
    "df_reactant_conditions.rename(columns={'Catalyst' : 'Dioxirane'}, inplace=True)\n",
    "df_reactant_conditions = df_reactant_conditions.drop_duplicates()"
   ]
  },
  {
   "cell_type": "code",
   "execution_count": null,
   "metadata": {},
   "outputs": [],
   "source": [
    "# get TFDO/DMDO count\n",
    "print(\"TFDO:\", len(df_reactant_conditions[df_reactant_conditions.Dioxirane == 'TFDO']))\n",
    "print(\"DMDO:\", len(df_reactant_conditions[df_reactant_conditions.Dioxirane == 'DMDO']))"
   ]
  },
  {
   "cell_type": "code",
   "execution_count": null,
   "metadata": {},
   "outputs": [],
   "source": [
    "# plot DMDO/TFDO distribution\n",
    "import seaborn as sns\n",
    "import matplotlib.pyplot as plt\n",
    "\n",
    "df_reactant_conditions.replace(np.nan, 'not specified', inplace=True)\n",
    "\n",
    "fig, ax = plt.subplots(figsize=(10, 6))\n",
    "sns.histplot(x='Dioxirane', data=df_reactant_conditions, \n",
    "             hue='Dioxirane',\n",
    "             shrink=0.8,)\n",
    "ax.get_legend().remove()\n",
    "ax.set_xlabel('Dioxirane')\n",
    "ax.set_title('Number of reactions per dioxirane reagent')\n",
    "fig.savefig('dioxirane_distribution.png', dpi=300)"
   ]
  },
  {
   "cell_type": "code",
   "execution_count": null,
   "metadata": {},
   "outputs": [],
   "source": [
    "# plot solvent distribution\n",
    "fig, ax = plt.subplots(figsize=(10, 6))\n",
    "df_reactant_conditions.sort_values('Solvent', inplace=True)\n",
    "sns.histplot(x='Solvent', data=df_reactant_conditions, \n",
    "             hue='Dioxirane',\n",
    "             multiple='stack',\n",
    "             shrink=0.8,)\n",
    "#ax.get_legend().remove()\n",
    "ax.set_xticklabels(ax.get_xticklabels(), rotation=45)\n",
    "ax.set_xlabel('Solvent')\n",
    "ax.set_title('Number of reactions per dioxirane catalyst')\n",
    "fig.tight_layout()\n",
    "fig.savefig('solvent_distribution.png', dpi=300)"
   ]
  },
  {
   "cell_type": "code",
   "execution_count": null,
   "metadata": {},
   "outputs": [],
   "source": [
    "# plot reaction time distribution\n",
    "fig, ax = plt.subplots(figsize=(10, 6))\n",
    "time_float = []\n",
    "for t in df_reactant_conditions['Time (min)']:\n",
    "    try:\n",
    "        time_float.append(float(t))\n",
    "    except:\n",
    "        time_float.append(np.nan)\n",
    "\n",
    "df_reactant_conditions['time (min)'] = time_float\n",
    "#df_reactant_conditions['Time (min)'] = df_reactant_conditions['Time (min)'].map({'Time (min)': lambda x: float(x)})\n",
    "df_reactant_conditions.sort_values('time (min)', inplace=True)\n",
    "sns.histplot(x='time (min)', data=df_reactant_conditions, \n",
    "             hue='Dioxirane',\n",
    "             shrink=0.8, multiple='stack')\n",
    "#ax.get_legend().remove()\n",
    "ax.set_xticklabels(ax.get_xticklabels(), rotation=45)\n",
    "ax.set_xlabel('Time (min)')\n",
    "ax.set_title('Number of reactions per Time (min)')\n",
    "fig.tight_layout()\n",
    "\n",
    "fig.savefig('time_distribution.png', dpi=300)"
   ]
  },
  {
   "cell_type": "code",
   "execution_count": null,
   "metadata": {},
   "outputs": [],
   "source": [
    "# plot temperature distribution\n",
    "fig, ax = plt.subplots(figsize=(10, 6))\n",
    "time_float = []\n",
    "for t in df_reactant_conditions['Temperature (ºC)']:\n",
    "    try:\n",
    "        time_float.append(float(t))\n",
    "    except:\n",
    "        time_float.append(np.nan)\n",
    "\n",
    "df_reactant_conditions['temperature (ºC)'] = time_float\n",
    "#df_reactant_conditions['Time (min)'] = df_reactant_conditions['Time (min)'].map({'Time (min)': lambda x: float(x)})\n",
    "df_reactant_conditions.sort_values('time (min)', inplace=True)\n",
    "sns.histplot(x='temperature (ºC)', data=df_reactant_conditions, \n",
    "             hue='Dioxirane',\n",
    "             bins=20,\n",
    "             shrink=0.8, multiple='stack')\n",
    "#ax.get_legend().remove()\n",
    "ax.set_xticklabels(ax.get_xticklabels(), rotation=45)\n",
    "ax.set_xlabel('Temperature (ºC)')\n",
    "ax.set_title('Number of reactions per Temperature (ºC)')\n",
    "fig.tight_layout()\n",
    "\n",
    "fig.savefig('temp_distribution.png', dpi=300)"
   ]
  },
  {
   "cell_type": "code",
   "execution_count": null,
   "metadata": {},
   "outputs": [],
   "source": []
  }
 ],
 "metadata": {
  "kernelspec": {
   "display_name": "regio_data",
   "language": "python",
   "name": "python3"
  },
  "language_info": {
   "codemirror_mode": {
    "name": "ipython",
    "version": 3
   },
   "file_extension": ".py",
   "mimetype": "text/x-python",
   "name": "python",
   "nbconvert_exporter": "python",
   "pygments_lexer": "ipython3",
   "version": "3.11.10"
  }
 },
 "nbformat": 4,
 "nbformat_minor": 2
}
