{
 "cells": [
  {
   "cell_type": "code",
   "execution_count": 1,
   "metadata": {},
   "outputs": [],
   "source": [
    "import pandas as pd\n",
    "import numpy as np\n",
    "import matplotlib.pyplot as plt\n",
    "import seaborn as sns\n",
    "import os\n",
    "sns.set(style=\"whitegrid\")"
   ]
  },
  {
   "cell_type": "code",
   "execution_count": 2,
   "metadata": {},
   "outputs": [],
   "source": [
    "def get_df_results(validation_type='large_mol', \n",
    "                   model_sel='RF2', \n",
    "                   descriptors=[\"XTB\", \"Selected\", \"Custom\", \"Rdkit-Vbur\", \"Gasteiger\", \"BDE\", \"ENV-2\"]):\n",
    "    \"\"\"\n",
    "    Validation type has to be in ['large_mol', 'loo']\n",
    "    \"\"\"    \n",
    "    # get the good column names\n",
    "    if validation_type == 'large_mol':\n",
    "        col_model = 'Model'\n",
    "        col_desc  = 'Descriptor'\n",
    "        file      = 'df_results.csv'\n",
    "    elif validation_type == 'loo':\n",
    "        col_model = 'Model'\n",
    "        col_desc  = 'Feature'\n",
    "        file      = 'results_loo.csv'\n",
    "\n",
    "    # get the files\n",
    "    runs = os.listdir(f\"../results/model_validation/regression/{validation_type}/dioxirane\")\n",
    "    runs = [run for run in runs if 'clean_run' in run]\n",
    "    columns = runs.copy()\n",
    "    columns.append(col_model)\n",
    "    columns.append(col_desc)\n",
    "    df_results = pd.DataFrame(columns=columns)\n",
    "    df_results.set_index([col_model, col_desc], inplace=True)\n",
    "    for run in runs:\n",
    "        try:\n",
    "            local_df = pd.read_csv(f\"../results/model_validation/regression/{validation_type}/dioxirane/{run}/{file}\")\n",
    "            local_df.rename(columns={'TOP-1': 'TOP1'}, inplace=True)\n",
    "            for desc in np.unique(local_df[col_desc].values):\n",
    "                for model in local_df[col_model].unique():\n",
    "                    if model == model_sel:\n",
    "                        val = local_df[(local_df[col_model] == model) & (local_df[col_desc] == desc)].TOP1.values[0]\n",
    "                        if validation_type == 'large_mol':\n",
    "                            val = val*100/50\n",
    "                        #print(model, desc, run, val)\n",
    "                        df_results.loc[(model, desc), run] = val\n",
    "\n",
    "        except:\n",
    "            print(f\"../results/model_validation/regression/{validation_type}/dioxirane/{run}/{file} in {run}\")\n",
    "            df_results.drop(run, axis=1, inplace=True)\n",
    "            continue\n",
    "\n",
    "\n",
    "    df_results.reset_index(inplace=True)\n",
    "    df_results\n",
    "\n",
    "    df_res = df_results[df_results[col_model] == model_sel]\n",
    "    df_res = df_res[df_res[col_desc].isin(descriptors)]\n",
    "    df_res.set_index([col_desc], inplace=True)\n",
    "    df_res.drop(col_model, axis=1, inplace=True)\n",
    "    #print(df_res)   \n",
    "    return df_res"
   ]
  },
  {
   "cell_type": "code",
   "execution_count": 3,
   "metadata": {},
   "outputs": [],
   "source": [
    "df_res_bm  = get_df_results(validation_type='large_mol')\n",
    "df_res_bm.reset_index(inplace=True)\n",
    "df_res_bm.rename(columns={'Descriptor': 'Descriptors'}, inplace=True)\n",
    "df_res_loo = get_df_results(validation_type='loo')\n",
    "\n",
    "df_res_loo.reset_index(inplace=True)\n",
    "df_res_loo.rename(columns={'Feature': 'Descriptors'}, inplace=True)\n",
    "\n",
    "df_res_bm.set_index('Descriptors', inplace=True)\n",
    "df_res_loo.set_index('Descriptors', inplace=True)\n",
    "\n",
    "df_res_loo_T = df_res_loo.T\n",
    "df_res_loo_T = df_res_loo_T[['BDE', 'Gasteiger', 'Rdkit-Vbur', 'ENV-2', 'XTB', 'Selected', 'Custom']]\n",
    "df_res_bm_T  = df_res_bm.T\n",
    "df_res_bm_T  = df_res_bm_T[['BDE', 'Gasteiger', 'Rdkit-Vbur', 'ENV-2', 'XTB', 'Selected', 'Custom']]\n"
   ]
  },
  {
   "cell_type": "code",
   "execution_count": 4,
   "metadata": {},
   "outputs": [],
   "source": [
    "res_bm_T = df_res_bm.T\n",
    "res_loo_T = df_res_loo.T\n",
    "res_bm_T['validation_type'] = 'large_mol'\n",
    "res_loo_T['validation_type'] = 'loo'\n",
    "\n",
    "df_res = pd.concat([res_bm_T, res_loo_T], axis=0)\n"
   ]
  },
  {
   "cell_type": "code",
   "execution_count": null,
   "metadata": {},
   "outputs": [],
   "source": [
    "melted = df_res.melt(id_vars='validation_type', value_vars=['BDE', 'Gasteiger', 'Rdkit-Vbur', 'ENV-2', 'XTB', 'Selected', 'Custom'])\n",
    "\n",
    "melted.rename(columns={'variable': 'Descriptors', 'value': 'Top-1 (%)', 'validation_type': 'Validation'}, inplace=True)\n",
    "melted.replace({'BDE': 'BDE', \n",
    "                'Gasteiger': 'Charges', \n",
    "                'Rdkit-Vbur': 'Sterics', \n",
    "                'ENV-2': 'Local-environment', \n",
    "                'XTB': 'xTB', \n",
    "                'Selected': 'ML selection', \n",
    "                'Custom': 'Chemist selection',\n",
    "                'loo': 'leave-one-out',\n",
    "                'large_mol': 'complex targets'}, inplace=True)\n",
    "fig, ax = plt.subplots(1,1, figsize=(5, 5))\n",
    "sns.boxplot(data=melted, dodge=False,\n",
    "            hue='Validation', y='Top-1 (%)', x='Descriptors', ax=ax)\n",
    "\n",
    "ax.set_ylim(10,85)\n",
    "ax.legend(loc=[0.56, 0.142], title='Validation')\n",
    "fig.tight_layout()\n",
    "fig.savefig('top1_boxplot_bm_vs_loo_3.png', dpi=600)"
   ]
  }
 ],
 "metadata": {
  "kernelspec": {
   "display_name": "regio_data",
   "language": "python",
   "name": "python3"
  },
  "language_info": {
   "codemirror_mode": {
    "name": "ipython",
    "version": 3
   },
   "file_extension": ".py",
   "mimetype": "text/x-python",
   "name": "python",
   "nbconvert_exporter": "python",
   "pygments_lexer": "ipython3",
   "version": "3.11.10"
  }
 },
 "nbformat": 4,
 "nbformat_minor": 2
}
