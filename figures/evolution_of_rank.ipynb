{
 "cells": [
  {
   "cell_type": "code",
   "execution_count": 2,
   "metadata": {},
   "outputs": [
    {
     "name": "stderr",
     "output_type": "stream",
     "text": [
      "/Users/anjali/miniconda3/envs/regio_ch/lib/python3.11/site-packages/dbstep/sterics.py:15: NumbaDeprecationWarning: The 'nopython' keyword argument was not supplied to the 'numba.jit' decorator. The implicit default value for this argument is currently False, but it will be changed to True in Numba 0.59.0. See https://numba.readthedocs.io/en/stable/reference/deprecation.html#deprecation-of-object-mode-fall-back-behaviour-when-using-jit for details.\n",
      "  @jit\n",
      "/Users/anjali/Desktop/reisman lab/regiochem/active_learning/experimental/../regression/acqf.py:26: DeprecationWarning: The rdkit.Chem.MCS module is deprecated; please use rdkit.Chem.rdFMCS instead.\n",
      "  from rdkit.Chem import MCS\n"
     ]
    }
   ],
   "source": [
    "import pickle\n",
    "import sys\n",
    "sys.path.append(f\"../regression\")\n",
    "import acqf as a\n",
    "import acquisition as aq\n",
    "import modelling as md\n",
    "from tqdm import tqdm\n",
    "from sklearn.ensemble import RandomForestRegressor\n",
    "from rdkit.Chem import rdFMCS\n",
    "import pandas as pd\n",
    "import numpy as np\n",
    "from sklearn.base import clone\n"
   ]
  },
  {
   "cell_type": "code",
   "execution_count": 3,
   "metadata": {},
   "outputs": [],
   "source": [
    "target_SMILES = \"CC1(C)CCC[C@]2(C)[C@H]3CC(=O)O[C@]3(C)CC[C@@H]12\"\n",
    "products = [\"O=C(O[C@@]1(CC[C@@]23[H])C)C[C@@H]1[C@@]3(C)C[C@@H](O)CC2(C)C\",\n",
    "             \"O=C(O[C@@]1(CC[C@@]23[H])C)C[C@@H]1[C@@]3(C)CCC(C2(C)C)=O\",\n",
    "             \"O=C(O[C@@]1(CC[C@@]23[H])C)C[C@@H]1[C@@]3(C)CC(CC2(C)C)=O\"]\n",
    "sels = None\n",
    "yields = [25, 57, 18]\n",
    "feature_choice = \"custom\"\n",
    "atom = \"O\"\n",
    "df_folder = 'preprocessed_reactions_no_unspec_no_intra_unnorm'\n",
    "file = \"/Users/anjali/Desktop/reisman lab/regiochem/results/active_learning/regression/experimental/results_CC1(C)CCC[C@]2(C)[C@H]3CC(=O)O[C@]3(C)CC[C@@H]12_1_coldstart_custom.pkl\""
   ]
  },
  {
   "cell_type": "code",
   "execution_count": 4,
   "metadata": {},
   "outputs": [],
   "source": [
    "if sels:\n",
    "    target_df = pd.DataFrame({\"Reactant_SMILES\": [target_SMILES]*len(products), \"Product_SMILES\": products, \"rxn_ID\":[0]*len(products), \"Selectivity (%)\": sels})\n",
    "else:\n",
    "    target_df = pd.DataFrame({\"Reactant_SMILES\": [target_SMILES]*len(products), \"Product_SMILES\": products, \"rxn_ID\":[0]*len(products), \"Yield (%)\": yields, \"Selectivity (%)\":[np.nan]*len(products)})\n",
    "target_df.to_csv(\"target.csv\")"
   ]
  },
  {
   "cell_type": "code",
   "execution_count": 5,
   "metadata": {},
   "outputs": [
    {
     "name": "stderr",
     "output_type": "stream",
     "text": [
      "100%|██████████| 3/3 [00:01<00:00,  2.30it/s]\n"
     ]
    },
    {
     "name": "stdout",
     "output_type": "stream",
     "text": [
      "First part of the cleaning completed\n"
     ]
    },
    {
     "name": "stderr",
     "output_type": "stream",
     "text": [
      "100%|██████████| 1/1 [00:00<00:00, 372.83it/s]\n"
     ]
    },
    {
     "name": "stdout",
     "output_type": "stream",
     "text": [
      "0 molecules with no selectivity.\n"
     ]
    },
    {
     "name": "stderr",
     "output_type": "stream",
     "text": [
      "100%|██████████| 1/1 [00:00<00:00,  3.44it/s]\n",
      "100%|██████████| 3/3 [00:00<00:00,  7.66it/s]\n"
     ]
    },
    {
     "name": "stdout",
     "output_type": "stream",
     "text": [
      "First part of the cleaning completed\n"
     ]
    },
    {
     "name": "stderr",
     "output_type": "stream",
     "text": [
      "100%|██████████| 1/1 [00:00<00:00, 471.27it/s]\n"
     ]
    },
    {
     "name": "stdout",
     "output_type": "stream",
     "text": [
      "0 molecules with no selectivity.\n"
     ]
    },
    {
     "name": "stderr",
     "output_type": "stream",
     "text": [
      "100%|██████████| 1/1 [00:00<00:00,  5.03it/s]\n",
      "100%|██████████| 3/3 [00:00<00:00,  8.79it/s]\n"
     ]
    },
    {
     "name": "stdout",
     "output_type": "stream",
     "text": [
      "First part of the cleaning completed\n"
     ]
    },
    {
     "name": "stderr",
     "output_type": "stream",
     "text": [
      "100%|██████████| 1/1 [00:00<00:00, 764.55it/s]\n"
     ]
    },
    {
     "name": "stdout",
     "output_type": "stream",
     "text": [
      "0 molecules with no selectivity.\n"
     ]
    },
    {
     "name": "stderr",
     "output_type": "stream",
     "text": [
      "100%|██████████| 1/1 [00:00<00:00, 17.85it/s]\n"
     ]
    },
    {
     "name": "stdout",
     "output_type": "stream",
     "text": [
      "/Users/anjali/Desktop/reisman lab/regiochem\n"
     ]
    }
   ],
   "source": [
    "dfs = []\n",
    "if feature_choice in [\"xtb\", \"custom\", \"selected\"]:\n",
    "    target_df = md.prepare_reactivity_mapping('XTB', file=\"target.csv\", \n",
    "                                            preprocess=True,\n",
    "                                            normalize=False, threshold_correlated=1,\n",
    "                                            rxn_folder=\"target_data\", atom=atom)\n",
    "    dfs.append(target_df)\n",
    "if feature_choice in [\"bde\", \"custom\", \"selected\"]:\n",
    "    target_df = md.prepare_reactivity_mapping('BDE', file=\"target.csv\", \n",
    "                                            preprocess=True,\n",
    "                                            normalize=False, threshold_correlated=1,\n",
    "                                            rxn_folder=\"target_data\", atom=atom)\n",
    "    dfs.append(target_df)\n",
    "if feature_choice in [\"gas\", \"custom\", \"selected\"]:\n",
    "    target_df = md.prepare_reactivity_mapping('Gasteiger', file=\"target.csv\", \n",
    "                                            preprocess=True,\n",
    "                                            normalize=False, threshold_correlated=1,\n",
    "                                            rxn_folder=\"target_data\", atom=atom)\n",
    "    dfs.append(target_df)\n",
    "if feature_choice in [\"env1\", \"selected\"]:\n",
    "    target_df = md.prepare_reactivity_mapping('ENV-1', file=\"target.csv\", \n",
    "                                            preprocess=True,\n",
    "                                            normalize=False, threshold_correlated=1,\n",
    "                                            rxn_folder=\"target_data\", atom=atom)\n",
    "    dfs.append(target_df)\n",
    "if feature_choice in [\"env2\", \"selected\"]:\n",
    "    target_df = md.prepare_reactivity_mapping('ENV-2', file=\"target.csv\", \n",
    "                                            preprocess=True,\n",
    "                                            normalize=False, threshold_correlated=1,\n",
    "                                            rxn_folder=\"target_data\", atom=atom)\n",
    "    dfs.append(target_df)\n",
    "if feature_choice in [\"dbstep\", \"selected\"]:\n",
    "    target_df = md.prepare_reactivity_mapping('DBSTEP', file=\"target.csv\", \n",
    "                                            preprocess=True,\n",
    "                                            normalize=False, threshold_correlated=1,\n",
    "                                            rxn_folder=\"target_data\", atom=atom)\n",
    "    dfs.append(target_df)\n",
    "\n",
    "df = a.make_descriptors_basic(option=feature_choice, df_folder=df_folder)\n",
    "if len(dfs) == 1:\n",
    "    targ = dfs[0]\n",
    "else:\n",
    "    targ = pd.DataFrame()\n",
    "    for col in df.columns:\n",
    "        for df_ in dfs:\n",
    "            if col in df_.columns:\n",
    "                targ[col] = df_[col]"
   ]
  },
  {
   "cell_type": "code",
   "execution_count": 6,
   "metadata": {},
   "outputs": [
    {
     "data": {
      "text/html": [
       "<div>\n",
       "<style scoped>\n",
       "    .dataframe tbody tr th:only-of-type {\n",
       "        vertical-align: middle;\n",
       "    }\n",
       "\n",
       "    .dataframe tbody tr th {\n",
       "        vertical-align: top;\n",
       "    }\n",
       "\n",
       "    .dataframe thead th {\n",
       "        text-align: right;\n",
       "    }\n",
       "</style>\n",
       "<table border=\"1\" class=\"dataframe\">\n",
       "  <thead>\n",
       "    <tr style=\"text-align: right;\">\n",
       "      <th></th>\n",
       "      <th>Reactant_SMILES</th>\n",
       "      <th>Atom_nº</th>\n",
       "      <th>Selectivity</th>\n",
       "      <th>Reactive Atom</th>\n",
       "      <th>bde_avg</th>\n",
       "      <th>gas_charge_C</th>\n",
       "      <th>gas_charge_H_max</th>\n",
       "      <th>Buried_Volume_C</th>\n",
       "      <th>Buried_Volume_H_max</th>\n",
       "    </tr>\n",
       "  </thead>\n",
       "  <tbody>\n",
       "    <tr>\n",
       "      <th>0</th>\n",
       "      <td>CC1(C)CCC[C@]2(C)[C@H]3CC(=O)O[C@]3(C)CC[C@@H]12</td>\n",
       "      <td>0</td>\n",
       "      <td>0.0</td>\n",
       "      <td>3</td>\n",
       "      <td>98.527428</td>\n",
       "      <td>-0.05962</td>\n",
       "      <td>0.02360</td>\n",
       "      <td>0.39074</td>\n",
       "      <td>0.410280</td>\n",
       "    </tr>\n",
       "    <tr>\n",
       "      <th>1</th>\n",
       "      <td>CC1(C)CCC[C@]2(C)[C@H]3CC(=O)O[C@]3(C)CC[C@@H]12</td>\n",
       "      <td>3</td>\n",
       "      <td>57.0</td>\n",
       "      <td>3</td>\n",
       "      <td>97.354034</td>\n",
       "      <td>-0.04782</td>\n",
       "      <td>0.02721</td>\n",
       "      <td>0.54712</td>\n",
       "      <td>0.473642</td>\n",
       "    </tr>\n",
       "    <tr>\n",
       "      <th>2</th>\n",
       "      <td>CC1(C)CCC[C@]2(C)[C@H]3CC(=O)O[C@]3(C)CC[C@@H]12</td>\n",
       "      <td>4</td>\n",
       "      <td>43.0</td>\n",
       "      <td>3</td>\n",
       "      <td>96.529358</td>\n",
       "      <td>-0.05224</td>\n",
       "      <td>0.02669</td>\n",
       "      <td>0.48702</td>\n",
       "      <td>0.494893</td>\n",
       "    </tr>\n",
       "    <tr>\n",
       "      <th>3</th>\n",
       "      <td>CC1(C)CCC[C@]2(C)[C@H]3CC(=O)O[C@]3(C)CC[C@@H]12</td>\n",
       "      <td>5</td>\n",
       "      <td>0.0</td>\n",
       "      <td>3</td>\n",
       "      <td>94.760429</td>\n",
       "      <td>-0.04713</td>\n",
       "      <td>0.02724</td>\n",
       "      <td>0.57242</td>\n",
       "      <td>0.500961</td>\n",
       "    </tr>\n",
       "    <tr>\n",
       "      <th>4</th>\n",
       "      <td>CC1(C)CCC[C@]2(C)[C@H]3CC(=O)O[C@]3(C)CC[C@@H]12</td>\n",
       "      <td>7</td>\n",
       "      <td>0.0</td>\n",
       "      <td>3</td>\n",
       "      <td>98.276642</td>\n",
       "      <td>-0.05893</td>\n",
       "      <td>0.02363</td>\n",
       "      <td>0.54251</td>\n",
       "      <td>0.566460</td>\n",
       "    </tr>\n",
       "    <tr>\n",
       "      <th>5</th>\n",
       "      <td>CC1(C)CCC[C@]2(C)[C@H]3CC(=O)O[C@]3(C)CC[C@@H]12</td>\n",
       "      <td>8</td>\n",
       "      <td>0.0</td>\n",
       "      <td>3</td>\n",
       "      <td>92.356712</td>\n",
       "      <td>0.01463</td>\n",
       "      <td>0.03554</td>\n",
       "      <td>0.76964</td>\n",
       "      <td>0.628978</td>\n",
       "    </tr>\n",
       "    <tr>\n",
       "      <th>6</th>\n",
       "      <td>CC1(C)CCC[C@]2(C)[C@H]3CC(=O)O[C@]3(C)CC[C@@H]12</td>\n",
       "      <td>9</td>\n",
       "      <td>0.0</td>\n",
       "      <td>3</td>\n",
       "      <td>91.152313</td>\n",
       "      <td>0.05268</td>\n",
       "      <td>0.03898</td>\n",
       "      <td>0.54181</td>\n",
       "      <td>0.511898</td>\n",
       "    </tr>\n",
       "    <tr>\n",
       "      <th>7</th>\n",
       "      <td>CC1(C)CCC[C@]2(C)[C@H]3CC(=O)O[C@]3(C)CC[C@@H]12</td>\n",
       "      <td>14</td>\n",
       "      <td>0.0</td>\n",
       "      <td>3</td>\n",
       "      <td>100.862701</td>\n",
       "      <td>-0.02446</td>\n",
       "      <td>0.02713</td>\n",
       "      <td>0.45565</td>\n",
       "      <td>0.490822</td>\n",
       "    </tr>\n",
       "    <tr>\n",
       "      <th>8</th>\n",
       "      <td>CC1(C)CCC[C@]2(C)[C@H]3CC(=O)O[C@]3(C)CC[C@@H]12</td>\n",
       "      <td>15</td>\n",
       "      <td>0.0</td>\n",
       "      <td>3</td>\n",
       "      <td>96.656250</td>\n",
       "      <td>-0.01256</td>\n",
       "      <td>0.03076</td>\n",
       "      <td>0.52725</td>\n",
       "      <td>0.461098</td>\n",
       "    </tr>\n",
       "    <tr>\n",
       "      <th>9</th>\n",
       "      <td>CC1(C)CCC[C@]2(C)[C@H]3CC(=O)O[C@]3(C)CC[C@@H]12</td>\n",
       "      <td>16</td>\n",
       "      <td>0.0</td>\n",
       "      <td>3</td>\n",
       "      <td>94.470459</td>\n",
       "      <td>-0.04560</td>\n",
       "      <td>0.02713</td>\n",
       "      <td>0.60247</td>\n",
       "      <td>0.593995</td>\n",
       "    </tr>\n",
       "    <tr>\n",
       "      <th>10</th>\n",
       "      <td>CC1(C)CCC[C@]2(C)[C@H]3CC(=O)O[C@]3(C)CC[C@@H]12</td>\n",
       "      <td>17</td>\n",
       "      <td>0.0</td>\n",
       "      <td>3</td>\n",
       "      <td>99.849197</td>\n",
       "      <td>-0.03029</td>\n",
       "      <td>0.03139</td>\n",
       "      <td>0.79745</td>\n",
       "      <td>0.651702</td>\n",
       "    </tr>\n",
       "  </tbody>\n",
       "</table>\n",
       "</div>"
      ],
      "text/plain": [
       "                                     Reactant_SMILES  Atom_nº  Selectivity  \\\n",
       "0   CC1(C)CCC[C@]2(C)[C@H]3CC(=O)O[C@]3(C)CC[C@@H]12        0          0.0   \n",
       "1   CC1(C)CCC[C@]2(C)[C@H]3CC(=O)O[C@]3(C)CC[C@@H]12        3         57.0   \n",
       "2   CC1(C)CCC[C@]2(C)[C@H]3CC(=O)O[C@]3(C)CC[C@@H]12        4         43.0   \n",
       "3   CC1(C)CCC[C@]2(C)[C@H]3CC(=O)O[C@]3(C)CC[C@@H]12        5          0.0   \n",
       "4   CC1(C)CCC[C@]2(C)[C@H]3CC(=O)O[C@]3(C)CC[C@@H]12        7          0.0   \n",
       "5   CC1(C)CCC[C@]2(C)[C@H]3CC(=O)O[C@]3(C)CC[C@@H]12        8          0.0   \n",
       "6   CC1(C)CCC[C@]2(C)[C@H]3CC(=O)O[C@]3(C)CC[C@@H]12        9          0.0   \n",
       "7   CC1(C)CCC[C@]2(C)[C@H]3CC(=O)O[C@]3(C)CC[C@@H]12       14          0.0   \n",
       "8   CC1(C)CCC[C@]2(C)[C@H]3CC(=O)O[C@]3(C)CC[C@@H]12       15          0.0   \n",
       "9   CC1(C)CCC[C@]2(C)[C@H]3CC(=O)O[C@]3(C)CC[C@@H]12       16          0.0   \n",
       "10  CC1(C)CCC[C@]2(C)[C@H]3CC(=O)O[C@]3(C)CC[C@@H]12       17          0.0   \n",
       "\n",
       "    Reactive Atom     bde_avg  gas_charge_C  gas_charge_H_max  \\\n",
       "0               3   98.527428      -0.05962           0.02360   \n",
       "1               3   97.354034      -0.04782           0.02721   \n",
       "2               3   96.529358      -0.05224           0.02669   \n",
       "3               3   94.760429      -0.04713           0.02724   \n",
       "4               3   98.276642      -0.05893           0.02363   \n",
       "5               3   92.356712       0.01463           0.03554   \n",
       "6               3   91.152313       0.05268           0.03898   \n",
       "7               3  100.862701      -0.02446           0.02713   \n",
       "8               3   96.656250      -0.01256           0.03076   \n",
       "9               3   94.470459      -0.04560           0.02713   \n",
       "10              3   99.849197      -0.03029           0.03139   \n",
       "\n",
       "    Buried_Volume_C  Buried_Volume_H_max  \n",
       "0           0.39074             0.410280  \n",
       "1           0.54712             0.473642  \n",
       "2           0.48702             0.494893  \n",
       "3           0.57242             0.500961  \n",
       "4           0.54251             0.566460  \n",
       "5           0.76964             0.628978  \n",
       "6           0.54181             0.511898  \n",
       "7           0.45565             0.490822  \n",
       "8           0.52725             0.461098  \n",
       "9           0.60247             0.593995  \n",
       "10          0.79745             0.651702  "
      ]
     },
     "execution_count": 6,
     "metadata": {},
     "output_type": "execute_result"
    }
   ],
   "source": [
    "targ"
   ]
  },
  {
   "cell_type": "code",
   "execution_count": 7,
   "metadata": {},
   "outputs": [],
   "source": [
    "# set atom of interest to most reactive carbon, or something other atom of interest\n",
    "atom_of_interest = 3"
   ]
  },
  {
   "cell_type": "code",
   "execution_count": 8,
   "metadata": {},
   "outputs": [],
   "source": [
    "def rank_of_atom(y_pt, atom_of_interest):\n",
    "    sorted_items = sorted(y_pt.items(), key=lambda kv: (kv[1], kv[0]), reverse=True)\n",
    "\n",
    "    for i in range(len(sorted_items)):\n",
    "        kv = sorted_items[i]\n",
    "        if kv[0] == atom_of_interest:\n",
    "            return i+1"
   ]
  },
  {
   "cell_type": "code",
   "execution_count": 10,
   "metadata": {},
   "outputs": [],
   "source": [
    "with open(file, 'rb') as f:\n",
    "    results_1 = pickle.load(f)\n",
    "t5, smis, carbon_preds = results_1"
   ]
  },
  {
   "cell_type": "code",
   "execution_count": 11,
   "metadata": {},
   "outputs": [],
   "source": [
    "afs = ['random',\n",
    "                             'acqf_1', 'acqf_10',\n",
    "                             'acqf_2-1', 'acqf_3', 'acqf_4-1', \n",
    "                             'acqf_5', 'acqf_6', 'acqf_7', 'acqf_9']"
   ]
  },
  {
   "cell_type": "code",
   "execution_count": 12,
   "metadata": {},
   "outputs": [],
   "source": [
    "af_mean_ranks = {}\n",
    "for i in range(len(carbon_preds)):\n",
    "    af_y = carbon_preds[i]\n",
    "    af = afs[i]\n",
    "    all_af_ranks = []\n",
    "    for run in af_y:\n",
    "        y = run[0]\n",
    "        ranks = []\n",
    "        for y_pt in y:\n",
    "            ranks.append(rank_of_atom(y_pt, atom_of_interest))\n",
    "        all_af_ranks.append(ranks)\n",
    "    all_af_ranks = np.array(all_af_ranks)\n",
    "    af_mean_ranks[af] = all_af_ranks.mean(axis=0)"
   ]
  },
  {
   "cell_type": "code",
   "execution_count": 19,
   "metadata": {},
   "outputs": [],
   "source": [
    "labels = [\"Random\", \"AL\", \"AL + Small molecules\"]\n",
    "colors = ['gray', 'skyblue','tab:blue']"
   ]
  },
  {
   "cell_type": "code",
   "execution_count": 20,
   "metadata": {},
   "outputs": [],
   "source": [
    "import matplotlib.pyplot as plt"
   ]
  },
  {
   "cell_type": "code",
   "execution_count": 21,
   "metadata": {},
   "outputs": [],
   "source": [
    "num_acqf = len(af_mean_ranks[\"random\"])"
   ]
  },
  {
   "cell_type": "code",
   "execution_count": 22,
   "metadata": {},
   "outputs": [],
   "source": [
    "afs_of_interest = [\"random\", \"acqf_1\", \"acqf_10\"]"
   ]
  },
  {
   "cell_type": "code",
   "execution_count": 23,
   "metadata": {},
   "outputs": [
    {
     "data": {
      "text/plain": [
       "<matplotlib.legend.Legend at 0x184843ed0>"
      ]
     },
     "execution_count": 23,
     "metadata": {},
     "output_type": "execute_result"
    },
    {
     "data": {
      "image/png": "[encoded data removed]",
      "text/plain": [
       "<Figure size 640x480 with 1 Axes>"
      ]
     },
     "metadata": {},
     "output_type": "display_data"
    }
   ],
   "source": [
    "for i in range(len(afs_of_interest)):\n",
    "    af = afs_of_interest[i]\n",
    "    mean_ranks = af_mean_ranks[af]\n",
    "    plt.plot(mean_ranks, color=colors[i], linewidth=2)\n",
    "    plt.gca().invert_yaxis()\n",
    "plt.legend(labels)"
   ]
  }
 ],
 "metadata": {
  "language_info": {
   "name": "python"
  }
 },
 "nbformat": 4,
 "nbformat_minor": 2
}
